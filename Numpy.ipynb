{
 "cells": [
  {
   "cell_type": "code",
   "execution_count": 1,
   "id": "6a4f9e40",
   "metadata": {},
   "outputs": [],
   "source": [
    "import numpy as np"
   ]
  },
  {
   "cell_type": "code",
   "execution_count": 3,
   "id": "d33196d8",
   "metadata": {},
   "outputs": [
    {
     "data": {
      "text/plain": [
       "'1.20.1'"
      ]
     },
     "execution_count": 3,
     "metadata": {},
     "output_type": "execute_result"
    }
   ],
   "source": [
    "np.__version__"
   ]
  },
  {
   "cell_type": "code",
   "execution_count": 4,
   "id": "c8cb0885",
   "metadata": {},
   "outputs": [
    {
     "data": {
      "text/plain": [
       "[1, 2, 3, 4, 5]"
      ]
     },
     "execution_count": 4,
     "metadata": {},
     "output_type": "execute_result"
    }
   ],
   "source": [
    "my_list=[1,2,3,4,5]\n",
    "my_list"
   ]
  },
  {
   "cell_type": "code",
   "execution_count": 5,
   "id": "60e8bba0",
   "metadata": {},
   "outputs": [
    {
     "data": {
      "text/plain": [
       "array([6, 7, 8, 9, 0])"
      ]
     },
     "execution_count": 5,
     "metadata": {},
     "output_type": "execute_result"
    }
   ],
   "source": [
    "my_array=np.array([6,7,8,9,0])\n",
    "my_array"
   ]
  },
  {
   "cell_type": "code",
   "execution_count": 6,
   "id": "3c46cb14",
   "metadata": {},
   "outputs": [
    {
     "data": {
      "text/plain": [
       "numpy.ndarray"
      ]
     },
     "execution_count": 6,
     "metadata": {},
     "output_type": "execute_result"
    }
   ],
   "source": [
    "type(my_array)"
   ]
  },
  {
   "cell_type": "code",
   "execution_count": 7,
   "id": "0e318c67",
   "metadata": {},
   "outputs": [
    {
     "data": {
      "text/plain": [
       "array([1, 2, 3, 4, 5])"
      ]
     },
     "execution_count": 7,
     "metadata": {},
     "output_type": "execute_result"
    }
   ],
   "source": [
    "my_array_list=np.array(my_list)\n",
    "my_array_list"
   ]
  },
  {
   "cell_type": "code",
   "execution_count": 11,
   "id": "e3dc65cd",
   "metadata": {},
   "outputs": [
    {
     "data": {
      "text/plain": [
       "array([ 6,  8, 10, 12])"
      ]
     },
     "execution_count": 11,
     "metadata": {},
     "output_type": "execute_result"
    }
   ],
   "source": [
    "a=np.array([1,2,3,4])\n",
    "b=np.array([5,6,7,8])\n",
    "a+b"
   ]
  },
  {
   "cell_type": "code",
   "execution_count": 12,
   "id": "50533c8f",
   "metadata": {},
   "outputs": [
    {
     "data": {
      "text/plain": [
       "4"
      ]
     },
     "execution_count": 12,
     "metadata": {},
     "output_type": "execute_result"
    }
   ],
   "source": [
    "a.size"
   ]
  },
  {
   "cell_type": "code",
   "execution_count": 13,
   "id": "dd454f00",
   "metadata": {},
   "outputs": [
    {
     "data": {
      "text/plain": [
       "(4,)"
      ]
     },
     "execution_count": 13,
     "metadata": {},
     "output_type": "execute_result"
    }
   ],
   "source": [
    "a.shape"
   ]
  },
  {
   "cell_type": "code",
   "execution_count": 14,
   "id": "9ec9346d",
   "metadata": {},
   "outputs": [
    {
     "data": {
      "text/plain": [
       "1"
      ]
     },
     "execution_count": 14,
     "metadata": {},
     "output_type": "execute_result"
    }
   ],
   "source": [
    "a.ndim"
   ]
  },
  {
   "cell_type": "code",
   "execution_count": 15,
   "id": "232306ca",
   "metadata": {},
   "outputs": [
    {
     "data": {
      "text/plain": [
       "dtype('int64')"
      ]
     },
     "execution_count": 15,
     "metadata": {},
     "output_type": "execute_result"
    }
   ],
   "source": [
    "a.dtype"
   ]
  },
  {
   "cell_type": "code",
   "execution_count": 16,
   "id": "9f2546df",
   "metadata": {},
   "outputs": [
    {
     "data": {
      "text/plain": [
       "8"
      ]
     },
     "execution_count": 16,
     "metadata": {},
     "output_type": "execute_result"
    }
   ],
   "source": [
    "a.itemsize # her biri 8 byte"
   ]
  },
  {
   "cell_type": "code",
   "execution_count": 17,
   "id": "3c6e00e7",
   "metadata": {},
   "outputs": [],
   "source": [
    "a1 = np.array([[1,2,3,4],[1,2,3,4],[2,3,4,5]])\n",
    "b1 = np.array([[2,3,4,5],[1,2,4,5],[1,2,3,4]])"
   ]
  },
  {
   "cell_type": "code",
   "execution_count": 18,
   "id": "64463259",
   "metadata": {},
   "outputs": [
    {
     "data": {
      "text/plain": [
       "12"
      ]
     },
     "execution_count": 18,
     "metadata": {},
     "output_type": "execute_result"
    }
   ],
   "source": [
    "a1.size # içinde 12 tane veri var"
   ]
  },
  {
   "cell_type": "code",
   "execution_count": 19,
   "id": "b6e58c2c",
   "metadata": {},
   "outputs": [
    {
     "data": {
      "text/plain": [
       "array([[1, 2, 3, 4],\n",
       "       [1, 2, 3, 4],\n",
       "       [2, 3, 4, 5]])"
      ]
     },
     "execution_count": 19,
     "metadata": {},
     "output_type": "execute_result"
    }
   ],
   "source": [
    "a1"
   ]
  },
  {
   "cell_type": "code",
   "execution_count": 20,
   "id": "fd788cb5",
   "metadata": {},
   "outputs": [
    {
     "data": {
      "text/plain": [
       "(3, 4)"
      ]
     },
     "execution_count": 20,
     "metadata": {},
     "output_type": "execute_result"
    }
   ],
   "source": [
    "a1.shape # matrisin boyutunu verir"
   ]
  },
  {
   "cell_type": "code",
   "execution_count": 21,
   "id": "05e0872d",
   "metadata": {},
   "outputs": [],
   "source": [
    "a3=np.array([[[1,2,3,4],[1,2,3,4],[2,3,4,5]],[[1,2,3,4],[1,2,3,4],[2,3,4,5]]]) # 3 boyutlu hale getirme"
   ]
  },
  {
   "cell_type": "code",
   "execution_count": 23,
   "id": "d6ab7f60",
   "metadata": {},
   "outputs": [
    {
     "data": {
      "text/plain": [
       "(2, 3, 4)"
      ]
     },
     "execution_count": 23,
     "metadata": {},
     "output_type": "execute_result"
    }
   ],
   "source": [
    "a3.shape"
   ]
  },
  {
   "cell_type": "code",
   "execution_count": 24,
   "id": "1135182b",
   "metadata": {},
   "outputs": [
    {
     "data": {
      "text/plain": [
       "array([0, 1, 2, 3, 4, 5])"
      ]
     },
     "execution_count": 24,
     "metadata": {},
     "output_type": "execute_result"
    }
   ],
   "source": [
    "np.arange(6)"
   ]
  },
  {
   "cell_type": "code",
   "execution_count": 25,
   "id": "d5de518c",
   "metadata": {},
   "outputs": [
    {
     "data": {
      "text/plain": [
       "array([-4, -3, -2, -1,  0,  1,  2,  3,  4,  5])"
      ]
     },
     "execution_count": 25,
     "metadata": {},
     "output_type": "execute_result"
    }
   ],
   "source": [
    "np.arange(-4,6)"
   ]
  },
  {
   "cell_type": "code",
   "execution_count": 27,
   "id": "5bac00b0",
   "metadata": {},
   "outputs": [
    {
     "data": {
      "text/plain": [
       "array([-4, -1,  2,  5])"
      ]
     },
     "execution_count": 27,
     "metadata": {},
     "output_type": "execute_result"
    }
   ],
   "source": [
    "np.arange(-4,6,3)"
   ]
  },
  {
   "cell_type": "code",
   "execution_count": 28,
   "id": "134fc1fe",
   "metadata": {},
   "outputs": [
    {
     "data": {
      "text/plain": [
       "array([2.  , 3.75, 5.5 , 7.25, 9.  ])"
      ]
     },
     "execution_count": 28,
     "metadata": {},
     "output_type": "execute_result"
    }
   ],
   "source": [
    "np.linspace(2,9,5) # 2 ile 9 arasını 4 eşit parçaya ayırır"
   ]
  },
  {
   "cell_type": "code",
   "execution_count": 29,
   "id": "764286f2",
   "metadata": {},
   "outputs": [
    {
     "data": {
      "text/plain": [
       "array([[0, 0, 0],\n",
       "       [0, 0, 0],\n",
       "       [0, 0, 0],\n",
       "       [0, 0, 0],\n",
       "       [0, 0, 0]])"
      ]
     },
     "execution_count": 29,
     "metadata": {},
     "output_type": "execute_result"
    }
   ],
   "source": [
    "np.zeros((5,3),dtype=int) # 0'lı matris oluşturma"
   ]
  },
  {
   "cell_type": "code",
   "execution_count": 30,
   "id": "78a4c389",
   "metadata": {},
   "outputs": [
    {
     "data": {
      "text/plain": [
       "array([[1, 1, 1],\n",
       "       [1, 1, 1],\n",
       "       [1, 1, 1],\n",
       "       [1, 1, 1],\n",
       "       [1, 1, 1]])"
      ]
     },
     "execution_count": 30,
     "metadata": {},
     "output_type": "execute_result"
    }
   ],
   "source": [
    "np.ones((5,3),dtype=int) # 1'lerden oluşan matris oluşturma"
   ]
  },
  {
   "cell_type": "code",
   "execution_count": 4,
   "id": "92a8e76a",
   "metadata": {},
   "outputs": [
    {
     "data": {
      "text/plain": [
       "array([[1., 0., 0., 0.],\n",
       "       [0., 1., 0., 0.],\n",
       "       [0., 0., 1., 0.],\n",
       "       [0., 0., 0., 1.]])"
      ]
     },
     "execution_count": 4,
     "metadata": {},
     "output_type": "execute_result"
    }
   ],
   "source": [
    "np.eye(4) # diagonal matris "
   ]
  },
  {
   "cell_type": "code",
   "execution_count": 31,
   "id": "2c559718",
   "metadata": {},
   "outputs": [
    {
     "data": {
      "text/plain": [
       "array([[2, 2, 2],\n",
       "       [2, 2, 2],\n",
       "       [2, 2, 2],\n",
       "       [2, 2, 2],\n",
       "       [2, 2, 2]])"
      ]
     },
     "execution_count": 31,
     "metadata": {},
     "output_type": "execute_result"
    }
   ],
   "source": [
    "np.full((5,3),2) # matrisin içerisini belirlediğimiz elemanla doldurur"
   ]
  },
  {
   "cell_type": "code",
   "execution_count": 34,
   "id": "27e030f4",
   "metadata": {},
   "outputs": [
    {
     "data": {
      "text/plain": [
       "array([ 0,  1,  2,  3,  4,  5,  6,  7,  8,  9, 10, 11, 12, 13, 14, 15, 16,\n",
       "       17, 18, 19, 20, 21, 22, 23, 24, 25, 26, 27, 28, 29, 30, 31, 32, 33,\n",
       "       34, 35])"
      ]
     },
     "execution_count": 34,
     "metadata": {},
     "output_type": "execute_result"
    }
   ],
   "source": [
    "b=np.arange(36)\n",
    "b"
   ]
  },
  {
   "cell_type": "code",
   "execution_count": 35,
   "id": "756211ee",
   "metadata": {},
   "outputs": [
    {
     "data": {
      "text/plain": [
       "(36,)"
      ]
     },
     "execution_count": 35,
     "metadata": {},
     "output_type": "execute_result"
    }
   ],
   "source": [
    "b.shape"
   ]
  },
  {
   "cell_type": "code",
   "execution_count": 36,
   "id": "c96fa29f",
   "metadata": {},
   "outputs": [
    {
     "data": {
      "text/plain": [
       "array([[ 0,  1,  2,  3,  4,  5],\n",
       "       [ 6,  7,  8,  9, 10, 11],\n",
       "       [12, 13, 14, 15, 16, 17],\n",
       "       [18, 19, 20, 21, 22, 23],\n",
       "       [24, 25, 26, 27, 28, 29],\n",
       "       [30, 31, 32, 33, 34, 35]])"
      ]
     },
     "execution_count": 36,
     "metadata": {},
     "output_type": "execute_result"
    }
   ],
   "source": [
    "b.reshape(6,6)"
   ]
  },
  {
   "cell_type": "code",
   "execution_count": 37,
   "id": "6a1a3378",
   "metadata": {},
   "outputs": [
    {
     "data": {
      "text/plain": [
       "35"
      ]
     },
     "execution_count": 37,
     "metadata": {},
     "output_type": "execute_result"
    }
   ],
   "source": [
    "b.max()"
   ]
  },
  {
   "cell_type": "code",
   "execution_count": 38,
   "id": "97124b8b",
   "metadata": {},
   "outputs": [
    {
     "data": {
      "text/plain": [
       "0"
      ]
     },
     "execution_count": 38,
     "metadata": {},
     "output_type": "execute_result"
    }
   ],
   "source": [
    "b.min()"
   ]
  },
  {
   "cell_type": "code",
   "execution_count": 39,
   "id": "b36439e7",
   "metadata": {},
   "outputs": [
    {
     "data": {
      "text/plain": [
       "35"
      ]
     },
     "execution_count": 39,
     "metadata": {},
     "output_type": "execute_result"
    }
   ],
   "source": [
    "b.argmax() # max elemanın nerede olduğunu gösterir"
   ]
  },
  {
   "cell_type": "markdown",
   "id": "7482aeae",
   "metadata": {},
   "source": [
    "# rand"
   ]
  },
  {
   "cell_type": "code",
   "execution_count": 5,
   "id": "d6881cc1",
   "metadata": {},
   "outputs": [
    {
     "data": {
      "text/plain": [
       "array([0.20155001, 0.40360268, 0.25076505, 0.48954827, 0.61941127])"
      ]
     },
     "execution_count": 5,
     "metadata": {},
     "output_type": "execute_result"
    }
   ],
   "source": [
    "np.random.rand(5) # 0 ile 1 arasında değerler alır"
   ]
  },
  {
   "cell_type": "code",
   "execution_count": 21,
   "id": "fcc2caad",
   "metadata": {},
   "outputs": [
    {
     "data": {
      "text/plain": [
       "array([[0.25887754, 0.25398778, 0.93059116],\n",
       "       [0.60475701, 0.43841453, 0.70443787],\n",
       "       [0.42751325, 0.69621541, 0.6160551 ],\n",
       "       [0.43266631, 0.32010946, 0.21906141],\n",
       "       [0.75994394, 0.92285453, 0.25004232]])"
      ]
     },
     "execution_count": 21,
     "metadata": {},
     "output_type": "execute_result"
    }
   ],
   "source": [
    "rand_float=np.random.rand(5,3)\n",
    "rand_float"
   ]
  },
  {
   "cell_type": "code",
   "execution_count": 22,
   "id": "c4f265a4",
   "metadata": {},
   "outputs": [],
   "source": [
    "import matplotlib.pyplot as plt"
   ]
  },
  {
   "cell_type": "code",
   "execution_count": 13,
   "id": "88fb3f96",
   "metadata": {},
   "outputs": [
    {
     "data": {
      "image/png": "[encoded data removed]",
      "text/plain": [
       "<Figure size 432x288 with 1 Axes>"
      ]
     },
     "metadata": {
      "needs_background": "light"
     },
     "output_type": "display_data"
    }
   ],
   "source": [
    "plt.hist(rand_float); # ; koymazsak rakamları verir"
   ]
  },
  {
   "cell_type": "code",
   "execution_count": 16,
   "id": "be017125",
   "metadata": {},
   "outputs": [
    {
     "data": {
      "image/png": "[encoded data removed]",
      "text/plain": [
       "<Figure size 432x288 with 1 Axes>"
      ]
     },
     "metadata": {
      "needs_background": "light"
     },
     "output_type": "display_data"
    }
   ],
   "source": [
    "arr=np.random.rand(99999)\n",
    "plt.hist(arr, bins=100);"
   ]
  },
  {
   "cell_type": "markdown",
   "id": "51737409",
   "metadata": {},
   "source": [
    "# randn"
   ]
  },
  {
   "cell_type": "code",
   "execution_count": 15,
   "id": "9c8bb6e3",
   "metadata": {},
   "outputs": [
    {
     "data": {
      "text/plain": [
       "array([[-0.26199289,  0.75933127,  0.93081966,  0.53229523, -1.66882539],\n",
       "       [ 0.70699665,  1.41757364,  1.07158513, -1.35548377, -0.75915115],\n",
       "       [-0.38230991, -1.18585567, -1.61345456, -0.66141495, -0.38501302],\n",
       "       [ 0.17552425,  1.06697651, -1.25078988,  0.37001215,  0.16854537],\n",
       "       [ 0.06753111, -0.32033426,  1.85015485, -1.43616901, -0.38391855]])"
      ]
     },
     "execution_count": 15,
     "metadata": {},
     "output_type": "execute_result"
    }
   ],
   "source": [
    "np.random.randn(5,5) # normal dağılım ,ortalaması 0, varyansı 1 olacak şekilde değerler atar"
   ]
  },
  {
   "cell_type": "code",
   "execution_count": 18,
   "id": "0efdb575",
   "metadata": {},
   "outputs": [
    {
     "data": {
      "image/png": "[encoded data removed]",
      "text/plain": [
       "<Figure size 432x288 with 1 Axes>"
      ]
     },
     "metadata": {
      "needs_background": "light"
     },
     "output_type": "display_data"
    }
   ],
   "source": [
    "arr_n=np.random.randn(99999) # normal dağılım\n",
    "plt.hist(arr_n, bins=100); "
   ]
  },
  {
   "cell_type": "markdown",
   "id": "63ddd126",
   "metadata": {},
   "source": [
    "# randint"
   ]
  },
  {
   "cell_type": "code",
   "execution_count": 19,
   "id": "b9bee4d8",
   "metadata": {},
   "outputs": [
    {
     "data": {
      "text/plain": [
       "array([[7, 0, 5, 4],\n",
       "       [4, 8, 1, 3],\n",
       "       [8, 5, 5, 7],\n",
       "       [6, 0, 8, 3]])"
      ]
     },
     "execution_count": 19,
     "metadata": {},
     "output_type": "execute_result"
    }
   ],
   "source": [
    "np.random.randint(0,10,size=(4,4))"
   ]
  },
  {
   "cell_type": "code",
   "execution_count": 20,
   "id": "97a09851",
   "metadata": {},
   "outputs": [
    {
     "data": {
      "text/plain": [
       "array([1, 6, 1, 0])"
      ]
     },
     "execution_count": 20,
     "metadata": {},
     "output_type": "execute_result"
    }
   ],
   "source": [
    "np.random.randint(0,[3,10,6,2]) # 0 rakamını teker teker köşeli parantezin içindeki rakamlarla ...\n",
    "# ... sayı aralığı oluşturacak diye atıyor. Mesela 0-3, 0-10, 0-6, 0-2 aralığından bir sayı veriyor"
   ]
  },
  {
   "cell_type": "markdown",
   "id": "9bd10025",
   "metadata": {},
   "source": [
    "# Concatenation of  The Arrays"
   ]
  },
  {
   "cell_type": "code",
   "execution_count": 22,
   "id": "0b0ae75c",
   "metadata": {},
   "outputs": [
    {
     "data": {
      "text/plain": [
       "array([[1., 1., 1., 1.],\n",
       "       [1., 1., 1., 1.],\n",
       "       [1., 1., 1., 1.],\n",
       "       [1., 1., 1., 1.]])"
      ]
     },
     "execution_count": 22,
     "metadata": {},
     "output_type": "execute_result"
    }
   ],
   "source": [
    "ones=np.ones((4,4))\n",
    "ones"
   ]
  },
  {
   "cell_type": "code",
   "execution_count": 23,
   "id": "4bbb88e9",
   "metadata": {},
   "outputs": [
    {
     "data": {
      "text/plain": [
       "array([[8, 3, 9, 2],\n",
       "       [6, 4, 2, 9],\n",
       "       [8, 5, 8, 3],\n",
       "       [4, 4, 4, 8]])"
      ]
     },
     "execution_count": 23,
     "metadata": {},
     "output_type": "execute_result"
    }
   ],
   "source": [
    "rand=np.random.randint(2,10,(4,4))\n",
    "rand"
   ]
  },
  {
   "cell_type": "code",
   "execution_count": 24,
   "id": "567187ad",
   "metadata": {},
   "outputs": [
    {
     "data": {
      "text/plain": [
       "array([[1., 1., 1., 1.],\n",
       "       [1., 1., 1., 1.],\n",
       "       [1., 1., 1., 1.],\n",
       "       [1., 1., 1., 1.],\n",
       "       [8., 3., 9., 2.],\n",
       "       [6., 4., 2., 9.],\n",
       "       [8., 5., 8., 3.],\n",
       "       [4., 4., 4., 8.]])"
      ]
     },
     "execution_count": 24,
     "metadata": {},
     "output_type": "execute_result"
    }
   ],
   "source": [
    "np.concatenate([ones,rand]) # axis=0 "
   ]
  },
  {
   "cell_type": "code",
   "execution_count": 25,
   "id": "28e7d19e",
   "metadata": {},
   "outputs": [
    {
     "data": {
      "text/plain": [
       "array([[1., 1., 1., 1., 8., 3., 9., 2.],\n",
       "       [1., 1., 1., 1., 6., 4., 2., 9.],\n",
       "       [1., 1., 1., 1., 8., 5., 8., 3.],\n",
       "       [1., 1., 1., 1., 4., 4., 4., 8.]])"
      ]
     },
     "execution_count": 25,
     "metadata": {},
     "output_type": "execute_result"
    }
   ],
   "source": [
    "np.concatenate([ones,rand],axis=1) "
   ]
  },
  {
   "cell_type": "markdown",
   "id": "09f7774c",
   "metadata": {},
   "source": [
    "# Splitting of The Arrays"
   ]
  },
  {
   "cell_type": "code",
   "execution_count": 5,
   "id": "4fc48ffc",
   "metadata": {},
   "outputs": [
    {
     "data": {
      "text/plain": [
       "array([[ 1,  2,  3,  4,  5],\n",
       "       [ 6,  7,  8,  9, 10],\n",
       "       [11, 12, 13, 14, 15],\n",
       "       [16, 17, 18, 19, 20],\n",
       "       [21, 22, 23, 24, 25]])"
      ]
     },
     "execution_count": 5,
     "metadata": {},
     "output_type": "execute_result"
    }
   ],
   "source": [
    "concat=np.arange(1,26).reshape(5,5)\n",
    "concat"
   ]
  },
  {
   "cell_type": "code",
   "execution_count": 8,
   "id": "fc5f579e",
   "metadata": {},
   "outputs": [
    {
     "data": {
      "text/plain": [
       "array([[ 1,  2,  3,  4,  5],\n",
       "       [ 6,  7,  8,  9, 10],\n",
       "       [11, 12, 13, 14, 15],\n",
       "       [16, 17, 18, 19, 20],\n",
       "       [21, 22, 23, 24, 25]])"
      ]
     },
     "execution_count": 8,
     "metadata": {},
     "output_type": "execute_result"
    }
   ],
   "source": [
    "a=concat.copy()\n",
    "a=a.reshape(-1,5) # -1'in amacı, satır sayısını bilgisayar ayarlatma, kafana göre ne verirsen ver diyorsun\n",
    "a"
   ]
  },
  {
   "cell_type": "code",
   "execution_count": 30,
   "id": "98427934",
   "metadata": {},
   "outputs": [
    {
     "data": {
      "text/plain": [
       "[array([[1, 2, 3, 4, 5]]),\n",
       " array([[ 6,  7,  8,  9, 10]]),\n",
       " array([[11, 12, 13, 14, 15]]),\n",
       " array([[16, 17, 18, 19, 20]]),\n",
       " array([[21, 22, 23, 24, 25]])]"
      ]
     },
     "execution_count": 30,
     "metadata": {},
     "output_type": "execute_result"
    }
   ],
   "source": [
    "np.split(concat,5) "
   ]
  },
  {
   "cell_type": "code",
   "execution_count": 31,
   "id": "5ecaa26c",
   "metadata": {},
   "outputs": [
    {
     "data": {
      "text/plain": [
       "[array([[1, 2, 3, 4, 5]]),\n",
       " array([[ 6,  7,  8,  9, 10],\n",
       "        [11, 12, 13, 14, 15]]),\n",
       " array([[16, 17, 18, 19, 20],\n",
       "        [21, 22, 23, 24, 25]])]"
      ]
     },
     "execution_count": 31,
     "metadata": {},
     "output_type": "execute_result"
    }
   ],
   "source": [
    "np.split(concat,[1,3]) # 0,1-2,3-4 şeklinde böldü"
   ]
  },
  {
   "cell_type": "code",
   "execution_count": 32,
   "id": "47cae8c8",
   "metadata": {},
   "outputs": [
    {
     "data": {
      "text/plain": [
       "[array([[ 1],\n",
       "        [ 6],\n",
       "        [11],\n",
       "        [16],\n",
       "        [21]]),\n",
       " array([[ 2,  3],\n",
       "        [ 7,  8],\n",
       "        [12, 13],\n",
       "        [17, 18],\n",
       "        [22, 23]]),\n",
       " array([[ 4,  5],\n",
       "        [ 9, 10],\n",
       "        [14, 15],\n",
       "        [19, 20],\n",
       "        [24, 25]])]"
      ]
     },
     "execution_count": 32,
     "metadata": {},
     "output_type": "execute_result"
    }
   ],
   "source": [
    "np.split(concat,[1,3],axis=1)"
   ]
  },
  {
   "cell_type": "markdown",
   "id": "8c660d70",
   "metadata": {},
   "source": [
    "# NumPy Indexing and Selection"
   ]
  },
  {
   "cell_type": "code",
   "execution_count": 1,
   "id": "8bdf6798",
   "metadata": {},
   "outputs": [
    {
     "data": {
      "text/plain": [
       "['anagrams',\n",
       " 'anscombe',\n",
       " 'attention',\n",
       " 'brain_networks',\n",
       " 'car_crashes',\n",
       " 'diamonds',\n",
       " 'dots',\n",
       " 'exercise',\n",
       " 'flights',\n",
       " 'fmri',\n",
       " 'gammas',\n",
       " 'geyser',\n",
       " 'iris',\n",
       " 'mpg',\n",
       " 'penguins',\n",
       " 'planets',\n",
       " 'tips',\n",
       " 'titanic']"
      ]
     },
     "execution_count": 1,
     "metadata": {},
     "output_type": "execute_result"
    }
   ],
   "source": [
    "import numpy as np\n",
    "import pandas as pd\n",
    "import seaborn as sns\n",
    "import matplotlib.pyplot as plt\n",
    "%matplotlib inline\n",
    "sns.get_dataset_names()"
   ]
  },
  {
   "cell_type": "code",
   "execution_count": 9,
   "id": "3f48c2e1",
   "metadata": {
    "collapsed": true
   },
   "outputs": [
    {
     "data": {
      "text/html": [
       "<div>\n",
       "<style scoped>\n",
       "    .dataframe tbody tr th:only-of-type {\n",
       "        vertical-align: middle;\n",
       "    }\n",
       "\n",
       "    .dataframe tbody tr th {\n",
       "        vertical-align: top;\n",
       "    }\n",
       "\n",
       "    .dataframe thead th {\n",
       "        text-align: right;\n",
       "    }\n",
       "</style>\n",
       "<table border=\"1\" class=\"dataframe\">\n",
       "  <thead>\n",
       "    <tr style=\"text-align: right;\">\n",
       "      <th></th>\n",
       "      <th>carat</th>\n",
       "      <th>cut</th>\n",
       "      <th>color</th>\n",
       "      <th>clarity</th>\n",
       "      <th>depth</th>\n",
       "      <th>table</th>\n",
       "      <th>price</th>\n",
       "      <th>x</th>\n",
       "      <th>y</th>\n",
       "      <th>z</th>\n",
       "    </tr>\n",
       "  </thead>\n",
       "  <tbody>\n",
       "    <tr>\n",
       "      <th>0</th>\n",
       "      <td>0.23</td>\n",
       "      <td>Ideal</td>\n",
       "      <td>E</td>\n",
       "      <td>SI2</td>\n",
       "      <td>61.5</td>\n",
       "      <td>55.0</td>\n",
       "      <td>326</td>\n",
       "      <td>3.95</td>\n",
       "      <td>3.98</td>\n",
       "      <td>2.43</td>\n",
       "    </tr>\n",
       "    <tr>\n",
       "      <th>1</th>\n",
       "      <td>0.21</td>\n",
       "      <td>Premium</td>\n",
       "      <td>E</td>\n",
       "      <td>SI1</td>\n",
       "      <td>59.8</td>\n",
       "      <td>61.0</td>\n",
       "      <td>326</td>\n",
       "      <td>3.89</td>\n",
       "      <td>3.84</td>\n",
       "      <td>2.31</td>\n",
       "    </tr>\n",
       "    <tr>\n",
       "      <th>2</th>\n",
       "      <td>0.23</td>\n",
       "      <td>Good</td>\n",
       "      <td>E</td>\n",
       "      <td>VS1</td>\n",
       "      <td>56.9</td>\n",
       "      <td>65.0</td>\n",
       "      <td>327</td>\n",
       "      <td>4.05</td>\n",
       "      <td>4.07</td>\n",
       "      <td>2.31</td>\n",
       "    </tr>\n",
       "    <tr>\n",
       "      <th>3</th>\n",
       "      <td>0.29</td>\n",
       "      <td>Premium</td>\n",
       "      <td>I</td>\n",
       "      <td>VS2</td>\n",
       "      <td>62.4</td>\n",
       "      <td>58.0</td>\n",
       "      <td>334</td>\n",
       "      <td>4.20</td>\n",
       "      <td>4.23</td>\n",
       "      <td>2.63</td>\n",
       "    </tr>\n",
       "    <tr>\n",
       "      <th>4</th>\n",
       "      <td>0.31</td>\n",
       "      <td>Good</td>\n",
       "      <td>J</td>\n",
       "      <td>SI2</td>\n",
       "      <td>63.3</td>\n",
       "      <td>58.0</td>\n",
       "      <td>335</td>\n",
       "      <td>4.34</td>\n",
       "      <td>4.35</td>\n",
       "      <td>2.75</td>\n",
       "    </tr>\n",
       "    <tr>\n",
       "      <th>...</th>\n",
       "      <td>...</td>\n",
       "      <td>...</td>\n",
       "      <td>...</td>\n",
       "      <td>...</td>\n",
       "      <td>...</td>\n",
       "      <td>...</td>\n",
       "      <td>...</td>\n",
       "      <td>...</td>\n",
       "      <td>...</td>\n",
       "      <td>...</td>\n",
       "    </tr>\n",
       "    <tr>\n",
       "      <th>53935</th>\n",
       "      <td>0.72</td>\n",
       "      <td>Ideal</td>\n",
       "      <td>D</td>\n",
       "      <td>SI1</td>\n",
       "      <td>60.8</td>\n",
       "      <td>57.0</td>\n",
       "      <td>2757</td>\n",
       "      <td>5.75</td>\n",
       "      <td>5.76</td>\n",
       "      <td>3.50</td>\n",
       "    </tr>\n",
       "    <tr>\n",
       "      <th>53936</th>\n",
       "      <td>0.72</td>\n",
       "      <td>Good</td>\n",
       "      <td>D</td>\n",
       "      <td>SI1</td>\n",
       "      <td>63.1</td>\n",
       "      <td>55.0</td>\n",
       "      <td>2757</td>\n",
       "      <td>5.69</td>\n",
       "      <td>5.75</td>\n",
       "      <td>3.61</td>\n",
       "    </tr>\n",
       "    <tr>\n",
       "      <th>53937</th>\n",
       "      <td>0.70</td>\n",
       "      <td>Very Good</td>\n",
       "      <td>D</td>\n",
       "      <td>SI1</td>\n",
       "      <td>62.8</td>\n",
       "      <td>60.0</td>\n",
       "      <td>2757</td>\n",
       "      <td>5.66</td>\n",
       "      <td>5.68</td>\n",
       "      <td>3.56</td>\n",
       "    </tr>\n",
       "    <tr>\n",
       "      <th>53938</th>\n",
       "      <td>0.86</td>\n",
       "      <td>Premium</td>\n",
       "      <td>H</td>\n",
       "      <td>SI2</td>\n",
       "      <td>61.0</td>\n",
       "      <td>58.0</td>\n",
       "      <td>2757</td>\n",
       "      <td>6.15</td>\n",
       "      <td>6.12</td>\n",
       "      <td>3.74</td>\n",
       "    </tr>\n",
       "    <tr>\n",
       "      <th>53939</th>\n",
       "      <td>0.75</td>\n",
       "      <td>Ideal</td>\n",
       "      <td>D</td>\n",
       "      <td>SI2</td>\n",
       "      <td>62.2</td>\n",
       "      <td>55.0</td>\n",
       "      <td>2757</td>\n",
       "      <td>5.83</td>\n",
       "      <td>5.87</td>\n",
       "      <td>3.64</td>\n",
       "    </tr>\n",
       "  </tbody>\n",
       "</table>\n",
       "<p>53940 rows × 10 columns</p>\n",
       "</div>"
      ],
      "text/plain": [
       "       carat        cut color clarity  depth  table  price     x     y     z\n",
       "0       0.23      Ideal     E     SI2   61.5   55.0    326  3.95  3.98  2.43\n",
       "1       0.21    Premium     E     SI1   59.8   61.0    326  3.89  3.84  2.31\n",
       "2       0.23       Good     E     VS1   56.9   65.0    327  4.05  4.07  2.31\n",
       "3       0.29    Premium     I     VS2   62.4   58.0    334  4.20  4.23  2.63\n",
       "4       0.31       Good     J     SI2   63.3   58.0    335  4.34  4.35  2.75\n",
       "...      ...        ...   ...     ...    ...    ...    ...   ...   ...   ...\n",
       "53935   0.72      Ideal     D     SI1   60.8   57.0   2757  5.75  5.76  3.50\n",
       "53936   0.72       Good     D     SI1   63.1   55.0   2757  5.69  5.75  3.61\n",
       "53937   0.70  Very Good     D     SI1   62.8   60.0   2757  5.66  5.68  3.56\n",
       "53938   0.86    Premium     H     SI2   61.0   58.0   2757  6.15  6.12  3.74\n",
       "53939   0.75      Ideal     D     SI2   62.2   55.0   2757  5.83  5.87  3.64\n",
       "\n",
       "[53940 rows x 10 columns]"
      ]
     },
     "execution_count": 9,
     "metadata": {},
     "output_type": "execute_result"
    }
   ],
   "source": [
    "df=sns.load_dataset(\"diamonds\")\n",
    "df"
   ]
  },
  {
   "cell_type": "code",
   "execution_count": 10,
   "id": "422df935",
   "metadata": {
    "collapsed": true
   },
   "outputs": [
    {
     "data": {
      "text/html": [
       "<div>\n",
       "<style scoped>\n",
       "    .dataframe tbody tr th:only-of-type {\n",
       "        vertical-align: middle;\n",
       "    }\n",
       "\n",
       "    .dataframe tbody tr th {\n",
       "        vertical-align: top;\n",
       "    }\n",
       "\n",
       "    .dataframe thead th {\n",
       "        text-align: right;\n",
       "    }\n",
       "</style>\n",
       "<table border=\"1\" class=\"dataframe\">\n",
       "  <thead>\n",
       "    <tr style=\"text-align: right;\">\n",
       "      <th></th>\n",
       "      <th>carat</th>\n",
       "      <th>depth</th>\n",
       "      <th>price</th>\n",
       "      <th>x</th>\n",
       "      <th>y</th>\n",
       "      <th>z</th>\n",
       "    </tr>\n",
       "  </thead>\n",
       "  <tbody>\n",
       "    <tr>\n",
       "      <th>0</th>\n",
       "      <td>0.23</td>\n",
       "      <td>61.5</td>\n",
       "      <td>326</td>\n",
       "      <td>3.95</td>\n",
       "      <td>3.98</td>\n",
       "      <td>2.43</td>\n",
       "    </tr>\n",
       "    <tr>\n",
       "      <th>1</th>\n",
       "      <td>0.21</td>\n",
       "      <td>59.8</td>\n",
       "      <td>326</td>\n",
       "      <td>3.89</td>\n",
       "      <td>3.84</td>\n",
       "      <td>2.31</td>\n",
       "    </tr>\n",
       "    <tr>\n",
       "      <th>2</th>\n",
       "      <td>0.23</td>\n",
       "      <td>56.9</td>\n",
       "      <td>327</td>\n",
       "      <td>4.05</td>\n",
       "      <td>4.07</td>\n",
       "      <td>2.31</td>\n",
       "    </tr>\n",
       "    <tr>\n",
       "      <th>3</th>\n",
       "      <td>0.29</td>\n",
       "      <td>62.4</td>\n",
       "      <td>334</td>\n",
       "      <td>4.20</td>\n",
       "      <td>4.23</td>\n",
       "      <td>2.63</td>\n",
       "    </tr>\n",
       "    <tr>\n",
       "      <th>4</th>\n",
       "      <td>0.31</td>\n",
       "      <td>63.3</td>\n",
       "      <td>335</td>\n",
       "      <td>4.34</td>\n",
       "      <td>4.35</td>\n",
       "      <td>2.75</td>\n",
       "    </tr>\n",
       "    <tr>\n",
       "      <th>...</th>\n",
       "      <td>...</td>\n",
       "      <td>...</td>\n",
       "      <td>...</td>\n",
       "      <td>...</td>\n",
       "      <td>...</td>\n",
       "      <td>...</td>\n",
       "    </tr>\n",
       "    <tr>\n",
       "      <th>53935</th>\n",
       "      <td>0.72</td>\n",
       "      <td>60.8</td>\n",
       "      <td>2757</td>\n",
       "      <td>5.75</td>\n",
       "      <td>5.76</td>\n",
       "      <td>3.50</td>\n",
       "    </tr>\n",
       "    <tr>\n",
       "      <th>53936</th>\n",
       "      <td>0.72</td>\n",
       "      <td>63.1</td>\n",
       "      <td>2757</td>\n",
       "      <td>5.69</td>\n",
       "      <td>5.75</td>\n",
       "      <td>3.61</td>\n",
       "    </tr>\n",
       "    <tr>\n",
       "      <th>53937</th>\n",
       "      <td>0.70</td>\n",
       "      <td>62.8</td>\n",
       "      <td>2757</td>\n",
       "      <td>5.66</td>\n",
       "      <td>5.68</td>\n",
       "      <td>3.56</td>\n",
       "    </tr>\n",
       "    <tr>\n",
       "      <th>53938</th>\n",
       "      <td>0.86</td>\n",
       "      <td>61.0</td>\n",
       "      <td>2757</td>\n",
       "      <td>6.15</td>\n",
       "      <td>6.12</td>\n",
       "      <td>3.74</td>\n",
       "    </tr>\n",
       "    <tr>\n",
       "      <th>53939</th>\n",
       "      <td>0.75</td>\n",
       "      <td>62.2</td>\n",
       "      <td>2757</td>\n",
       "      <td>5.83</td>\n",
       "      <td>5.87</td>\n",
       "      <td>3.64</td>\n",
       "    </tr>\n",
       "  </tbody>\n",
       "</table>\n",
       "<p>53940 rows × 6 columns</p>\n",
       "</div>"
      ],
      "text/plain": [
       "       carat  depth  price     x     y     z\n",
       "0       0.23   61.5    326  3.95  3.98  2.43\n",
       "1       0.21   59.8    326  3.89  3.84  2.31\n",
       "2       0.23   56.9    327  4.05  4.07  2.31\n",
       "3       0.29   62.4    334  4.20  4.23  2.63\n",
       "4       0.31   63.3    335  4.34  4.35  2.75\n",
       "...      ...    ...    ...   ...   ...   ...\n",
       "53935   0.72   60.8   2757  5.75  5.76  3.50\n",
       "53936   0.72   63.1   2757  5.69  5.75  3.61\n",
       "53937   0.70   62.8   2757  5.66  5.68  3.56\n",
       "53938   0.86   61.0   2757  6.15  6.12  3.74\n",
       "53939   0.75   62.2   2757  5.83  5.87  3.64\n",
       "\n",
       "[53940 rows x 6 columns]"
      ]
     },
     "execution_count": 10,
     "metadata": {},
     "output_type": "execute_result"
    }
   ],
   "source": [
    "df[[\"carat\",\"depth\",\"price\",\"x\",\"y\",\"z\"]]"
   ]
  },
  {
   "cell_type": "code",
   "execution_count": 11,
   "id": "f7a92172",
   "metadata": {
    "collapsed": true
   },
   "outputs": [
    {
     "data": {
      "text/plain": [
       "array([[2.300e-01, 6.150e+01, 3.260e+02, 3.950e+00, 3.980e+00, 2.430e+00],\n",
       "       [2.100e-01, 5.980e+01, 3.260e+02, 3.890e+00, 3.840e+00, 2.310e+00],\n",
       "       [2.300e-01, 5.690e+01, 3.270e+02, 4.050e+00, 4.070e+00, 2.310e+00],\n",
       "       ...,\n",
       "       [7.000e-01, 6.280e+01, 2.757e+03, 5.660e+00, 5.680e+00, 3.560e+00],\n",
       "       [8.600e-01, 6.100e+01, 2.757e+03, 6.150e+00, 6.120e+00, 3.740e+00],\n",
       "       [7.500e-01, 6.220e+01, 2.757e+03, 5.830e+00, 5.870e+00, 3.640e+00]])"
      ]
     },
     "execution_count": 11,
     "metadata": {},
     "output_type": "execute_result"
    }
   ],
   "source": [
    "diamond=np.array(df[[\"carat\",\"depth\",\"price\",\"x\",\"y\",\"z\"]]) # verisetini sayısal değerlere dönüştürme\n",
    "diamond"
   ]
  },
  {
   "cell_type": "code",
   "execution_count": 42,
   "id": "9af62a53",
   "metadata": {},
   "outputs": [
    {
     "data": {
      "text/plain": [
       "array([[2.30e-01, 6.15e+01, 3.26e+02, 3.95e+00, 3.98e+00, 2.43e+00],\n",
       "       [2.10e-01, 5.98e+01, 3.26e+02, 3.89e+00, 3.84e+00, 2.31e+00],\n",
       "       [2.30e-01, 5.69e+01, 3.27e+02, 4.05e+00, 4.07e+00, 2.31e+00],\n",
       "       [2.90e-01, 6.24e+01, 3.34e+02, 4.20e+00, 4.23e+00, 2.63e+00],\n",
       "       [3.10e-01, 6.33e+01, 3.35e+02, 4.34e+00, 4.35e+00, 2.75e+00]])"
      ]
     },
     "execution_count": 42,
     "metadata": {},
     "output_type": "execute_result"
    }
   ],
   "source": [
    "diamond[0:5]"
   ]
  },
  {
   "cell_type": "code",
   "execution_count": 45,
   "id": "fc54124f",
   "metadata": {},
   "outputs": [
    {
     "data": {
      "text/plain": [
       "array([0.23, 0.21, 0.23, ..., 0.7 , 0.86, 0.75])"
      ]
     },
     "execution_count": 45,
     "metadata": {},
     "output_type": "execute_result"
    }
   ],
   "source": [
    "diamond[:,0] # bize 0. sütunu verir"
   ]
  },
  {
   "cell_type": "code",
   "execution_count": 46,
   "id": "266e5e27",
   "metadata": {},
   "outputs": [
    {
     "data": {
      "text/plain": [
       "array([[2.30e-01, 6.15e+01, 3.26e+02],\n",
       "       [2.10e-01, 5.98e+01, 3.26e+02]])"
      ]
     },
     "execution_count": 46,
     "metadata": {},
     "output_type": "execute_result"
    }
   ],
   "source": [
    "diamond[0:2,0:3] # 1. kısım satırları, 2. kısım da sütunları verir"
   ]
  },
  {
   "cell_type": "code",
   "execution_count": 47,
   "id": "99226cb9",
   "metadata": {},
   "outputs": [
    {
     "data": {
      "text/plain": [
       "array([61.5, 59.8])"
      ]
     },
     "execution_count": 47,
     "metadata": {},
     "output_type": "execute_result"
    }
   ],
   "source": [
    "diamond[0:2,1] # 0-2. satır ve 1. sütun"
   ]
  },
  {
   "cell_type": "code",
   "execution_count": 12,
   "id": "ed497044",
   "metadata": {},
   "outputs": [
    {
     "data": {
      "text/plain": [
       "array([326.  ,   3.89])"
      ]
     },
     "execution_count": 12,
     "metadata": {},
     "output_type": "execute_result"
    }
   ],
   "source": [
    "diamond[1,[2,3]] # 1. satır, 2-3 sütun"
   ]
  },
  {
   "cell_type": "code",
   "execution_count": 13,
   "id": "13ee99db",
   "metadata": {},
   "outputs": [
    {
     "data": {
      "text/plain": [
       "array([334., 326.])"
      ]
     },
     "execution_count": 13,
     "metadata": {},
     "output_type": "execute_result"
    }
   ],
   "source": [
    "diamond[[3,1],2]"
   ]
  },
  {
   "cell_type": "code",
   "execution_count": 14,
   "id": "2d6fa580",
   "metadata": {},
   "outputs": [
    {
     "data": {
      "text/plain": [
       "array([[0.23, 3.95],\n",
       "       [0.21, 3.89],\n",
       "       [0.23, 4.05],\n",
       "       ...,\n",
       "       [0.7 , 5.66],\n",
       "       [0.86, 6.15],\n",
       "       [0.75, 5.83]])"
      ]
     },
     "execution_count": 14,
     "metadata": {},
     "output_type": "execute_result"
    }
   ],
   "source": [
    "diamond[:,[0,3]] # satırların hepsi, sütunlardan da sadece 0. ve 3. sütun"
   ]
  },
  {
   "cell_type": "markdown",
   "id": "010b1f27",
   "metadata": {},
   "source": [
    "# Filtering"
   ]
  },
  {
   "cell_type": "code",
   "execution_count": 17,
   "id": "f32d6894",
   "metadata": {},
   "outputs": [
    {
     "data": {
      "text/plain": [
       "array([[ 1,  2,  3,  4],\n",
       "       [ 5,  6,  7,  8],\n",
       "       [ 9, 10, 11, 12]])"
      ]
     },
     "execution_count": 17,
     "metadata": {},
     "output_type": "execute_result"
    }
   ],
   "source": [
    "array_1=np.arange(1,13).reshape(3,4)\n",
    "array_1"
   ]
  },
  {
   "cell_type": "code",
   "execution_count": 18,
   "id": "fe0de408",
   "metadata": {},
   "outputs": [
    {
     "data": {
      "text/plain": [
       "array([[False, False, False, False],\n",
       "       [False,  True,  True,  True],\n",
       "       [ True,  True,  True,  True]])"
      ]
     },
     "execution_count": 18,
     "metadata": {},
     "output_type": "execute_result"
    }
   ],
   "source": [
    "bigger5=array_1>5 \n",
    "bigger5"
   ]
  },
  {
   "cell_type": "code",
   "execution_count": 19,
   "id": "e5554804",
   "metadata": {},
   "outputs": [
    {
     "data": {
      "text/plain": [
       "array([ 6,  7,  8,  9, 10, 11, 12])"
      ]
     },
     "execution_count": 19,
     "metadata": {},
     "output_type": "execute_result"
    }
   ],
   "source": [
    "array_1[bigger5]"
   ]
  },
  {
   "cell_type": "code",
   "execution_count": 20,
   "id": "4f9d1615",
   "metadata": {},
   "outputs": [
    {
     "data": {
      "text/plain": [
       "array([1, 2, 3, 4])"
      ]
     },
     "execution_count": 20,
     "metadata": {},
     "output_type": "execute_result"
    }
   ],
   "source": [
    "array_1[array_1<5]"
   ]
  },
  {
   "cell_type": "code",
   "execution_count": 22,
   "id": "f9845f7f",
   "metadata": {},
   "outputs": [
    {
     "data": {
      "text/plain": [
       "array([4, 5, 6, 7])"
      ]
     },
     "execution_count": 22,
     "metadata": {},
     "output_type": "execute_result"
    }
   ],
   "source": [
    "array_1[(array_1<8)&(array_1>3)]"
   ]
  },
  {
   "cell_type": "code",
   "execution_count": null,
   "id": "f2e32af2",
   "metadata": {},
   "outputs": [],
   "source": []
  },
  {
   "cell_type": "markdown",
   "id": "da59f6a6",
   "metadata": {},
   "source": [
    "# Fancy Indexing"
   ]
  },
  {
   "cell_type": "code",
   "execution_count": 48,
   "id": "ed4ac41b",
   "metadata": {},
   "outputs": [
    {
     "data": {
      "text/plain": [
       "array([75, 93, 95, 45, 52, 85, 67, 75, 62, 40])"
      ]
     },
     "execution_count": 48,
     "metadata": {},
     "output_type": "execute_result"
    }
   ],
   "source": [
    "fancy=np.random.randint(0,100,10)\n",
    "fancy"
   ]
  },
  {
   "cell_type": "code",
   "execution_count": 49,
   "id": "9845136a",
   "metadata": {},
   "outputs": [],
   "source": [
    "fancy[0]=-5"
   ]
  },
  {
   "cell_type": "code",
   "execution_count": 50,
   "id": "03ddf1ed",
   "metadata": {},
   "outputs": [
    {
     "data": {
      "text/plain": [
       "array([-5, 93, 95, 45, 52, 85, 67, 75, 62, 40])"
      ]
     },
     "execution_count": 50,
     "metadata": {},
     "output_type": "execute_result"
    }
   ],
   "source": [
    "fancy"
   ]
  },
  {
   "cell_type": "code",
   "execution_count": 51,
   "id": "f6a9d61d",
   "metadata": {},
   "outputs": [
    {
     "data": {
      "text/plain": [
       "array([45, 85, 93, 40])"
      ]
     },
     "execution_count": 51,
     "metadata": {},
     "output_type": "execute_result"
    }
   ],
   "source": [
    "fancy[[3,5,1,9]]"
   ]
  },
  {
   "cell_type": "code",
   "execution_count": 52,
   "id": "b072d5a8",
   "metadata": {},
   "outputs": [],
   "source": [
    "f1=fancy[[3,5,1,9]]"
   ]
  },
  {
   "cell_type": "code",
   "execution_count": 53,
   "id": "76e6372b",
   "metadata": {},
   "outputs": [
    {
     "data": {
      "text/plain": [
       "array([-1, 85, 93, 40])"
      ]
     },
     "execution_count": 53,
     "metadata": {},
     "output_type": "execute_result"
    }
   ],
   "source": [
    "f1[0]=-1\n",
    "f1"
   ]
  },
  {
   "cell_type": "code",
   "execution_count": 54,
   "id": "14a834ec",
   "metadata": {},
   "outputs": [
    {
     "data": {
      "text/plain": [
       "array([-5, 93, 95, 45, 52, 85, 67, 75, 62, 40])"
      ]
     },
     "execution_count": 54,
     "metadata": {},
     "output_type": "execute_result"
    }
   ],
   "source": [
    "fancy # bu durumda fancy değişmez"
   ]
  },
  {
   "cell_type": "code",
   "execution_count": 55,
   "id": "9d3b1c06",
   "metadata": {},
   "outputs": [],
   "source": [
    "fancy2=fancy"
   ]
  },
  {
   "cell_type": "code",
   "execution_count": 56,
   "id": "cd11d0c4",
   "metadata": {},
   "outputs": [],
   "source": [
    "fancy2[1]=111"
   ]
  },
  {
   "cell_type": "code",
   "execution_count": 57,
   "id": "5af23969",
   "metadata": {},
   "outputs": [
    {
     "data": {
      "text/plain": [
       "array([ -5, 111,  95,  45,  52,  85,  67,  75,  62,  40])"
      ]
     },
     "execution_count": 57,
     "metadata": {},
     "output_type": "execute_result"
    }
   ],
   "source": [
    "fancy2"
   ]
  },
  {
   "cell_type": "code",
   "execution_count": 58,
   "id": "21677ea2",
   "metadata": {},
   "outputs": [
    {
     "data": {
      "text/plain": [
       "array([ -5, 111,  95,  45,  52,  85,  67,  75,  62,  40])"
      ]
     },
     "execution_count": 58,
     "metadata": {},
     "output_type": "execute_result"
    }
   ],
   "source": [
    "fancy # bu durumda fancy değişir"
   ]
  },
  {
   "cell_type": "code",
   "execution_count": 59,
   "id": "fde04ff0",
   "metadata": {},
   "outputs": [],
   "source": [
    "fancy3=fancy.copy()"
   ]
  },
  {
   "cell_type": "code",
   "execution_count": 60,
   "id": "9833c71c",
   "metadata": {},
   "outputs": [],
   "source": [
    "fancy3[0]=11111"
   ]
  },
  {
   "cell_type": "code",
   "execution_count": 61,
   "id": "ac0fff2c",
   "metadata": {},
   "outputs": [
    {
     "data": {
      "text/plain": [
       "array([11111,   111,    95,    45,    52,    85,    67,    75,    62,\n",
       "          40])"
      ]
     },
     "execution_count": 61,
     "metadata": {},
     "output_type": "execute_result"
    }
   ],
   "source": [
    "fancy3"
   ]
  },
  {
   "cell_type": "code",
   "execution_count": 62,
   "id": "bcf6a105",
   "metadata": {},
   "outputs": [
    {
     "data": {
      "text/plain": [
       "array([ -5, 111,  95,  45,  52,  85,  67,  75,  62,  40])"
      ]
     },
     "execution_count": 62,
     "metadata": {},
     "output_type": "execute_result"
    }
   ],
   "source": [
    "fancy # fancy bu durumda da değişmez"
   ]
  },
  {
   "cell_type": "markdown",
   "id": "72ecbb30",
   "metadata": {},
   "source": [
    "# Statistics with Numpy in Python"
   ]
  },
  {
   "cell_type": "code",
   "execution_count": 3,
   "id": "1add90e9",
   "metadata": {},
   "outputs": [],
   "source": [
    "from scipy import stats"
   ]
  },
  {
   "cell_type": "code",
   "execution_count": 3,
   "id": "8aba4ecf",
   "metadata": {},
   "outputs": [],
   "source": [
    "salary = [102, 33, 26, 27, 30, 25, 33, 33, 24]"
   ]
  },
  {
   "cell_type": "code",
   "execution_count": 4,
   "id": "454b1201",
   "metadata": {},
   "outputs": [
    {
     "data": {
      "text/plain": [
       "37.0"
      ]
     },
     "execution_count": 4,
     "metadata": {},
     "output_type": "execute_result"
    }
   ],
   "source": [
    "mean_salary = np.mean(salary)\n",
    "mean_salary"
   ]
  },
  {
   "cell_type": "code",
   "execution_count": 5,
   "id": "6fcfc0df",
   "metadata": {},
   "outputs": [
    {
     "data": {
      "text/plain": [
       "30.0"
      ]
     },
     "execution_count": 5,
     "metadata": {},
     "output_type": "execute_result"
    }
   ],
   "source": [
    "median_salary = np.median(salary)\n",
    "median_salary"
   ]
  },
  {
   "cell_type": "code",
   "execution_count": 6,
   "id": "cdbc3e3f",
   "metadata": {},
   "outputs": [
    {
     "data": {
      "text/plain": [
       "ModeResult(mode=array([33]), count=array([3]))"
      ]
     },
     "execution_count": 6,
     "metadata": {},
     "output_type": "execute_result"
    }
   ],
   "source": [
    "mode_salary = stats.mode(salary)\n",
    "mode_salary"
   ]
  },
  {
   "cell_type": "code",
   "execution_count": 7,
   "id": "58309f90",
   "metadata": {},
   "outputs": [
    {
     "data": {
      "text/plain": [
       "539.5555555555555"
      ]
     },
     "execution_count": 7,
     "metadata": {},
     "output_type": "execute_result"
    }
   ],
   "source": [
    "var_salary=np.var(salary)\n",
    "var_salary"
   ]
  },
  {
   "cell_type": "code",
   "execution_count": 8,
   "id": "3fd524a8",
   "metadata": {},
   "outputs": [
    {
     "data": {
      "text/plain": [
       "23.22833518691246"
      ]
     },
     "execution_count": 8,
     "metadata": {},
     "output_type": "execute_result"
    }
   ],
   "source": [
    "std_salary=np.std(salary)\n",
    "std_salary"
   ]
  },
  {
   "cell_type": "code",
   "execution_count": 9,
   "id": "eea1a494",
   "metadata": {},
   "outputs": [],
   "source": [
    "temp=[93,84,82,78,98,70]\n",
    "number_of_people=[13,10, 11, 8, 15, 9]"
   ]
  },
  {
   "cell_type": "code",
   "execution_count": 10,
   "id": "0e64538c",
   "metadata": {},
   "outputs": [
    {
     "data": {
      "text/plain": [
       "array([[102.56666667,  24.        ],\n",
       "       [ 24.        ,   6.8       ]])"
      ]
     },
     "execution_count": 10,
     "metadata": {},
     "output_type": "execute_result"
    }
   ],
   "source": [
    "cov=np.cov(temp, number_of_people)\n",
    "cov"
   ]
  },
  {
   "cell_type": "code",
   "execution_count": 11,
   "id": "1087e90d",
   "metadata": {},
   "outputs": [
    {
     "data": {
      "text/plain": [
       "array([[1.        , 0.90876934],\n",
       "       [0.90876934, 1.        ]])"
      ]
     },
     "execution_count": 11,
     "metadata": {},
     "output_type": "execute_result"
    }
   ],
   "source": [
    "cor=np.corrcoef(temp, number_of_people)\n",
    "cor"
   ]
  },
  {
   "cell_type": "markdown",
   "id": "7f2ff79a",
   "metadata": {},
   "source": [
    "# NumPy Array Selection"
   ]
  },
  {
   "cell_type": "code",
   "execution_count": 3,
   "id": "cc9ed76c",
   "metadata": {},
   "outputs": [],
   "source": [
    "import numpy as np\n",
    "import pandas as pd\n",
    "import seaborn as sns\n",
    "import matplotlib.pyplot as plt\n",
    "%matplotlib inline"
   ]
  },
  {
   "cell_type": "code",
   "execution_count": 5,
   "id": "3563008c",
   "metadata": {},
   "outputs": [
    {
     "data": {
      "text/plain": [
       "array([29, 36, 33, 30, 34, 33, 35, 36, 27, 42, 33, 38, 43, 42, 39, 44, 43,\n",
       "       38, 37, 31, 35, 41, 35, 42, 33, 26, 33, 41, 40, 38, 33, 29, 40, 43,\n",
       "       38, 40, 29, 35, 43, 42, 42, 35, 37, 27, 31, 34, 25, 42, 43, 33])"
      ]
     },
     "execution_count": 5,
     "metadata": {},
     "output_type": "execute_result"
    }
   ],
   "source": [
    "age=np.random.randint(25,45,50)\n",
    "age"
   ]
  },
  {
   "cell_type": "code",
   "execution_count": 6,
   "id": "0c3b7d4f",
   "metadata": {},
   "outputs": [
    {
     "data": {
      "text/plain": [
       "array([-1, -1, 99, 99, 34, 33, 35, 36, 27, 42, 33, 38, 43, 42, 39, 44, 43,\n",
       "       38, 37, 31, 35, 41, 35, 42, 33, 26, 33, 41, 40, 38, 33, 29, 40, 43,\n",
       "       38, 40, 29, 35, 43, 42, 42, 35, 37, 27, 31, 34, 25, 42, 43, 33])"
      ]
     },
     "execution_count": 6,
     "metadata": {},
     "output_type": "execute_result"
    }
   ],
   "source": [
    "age[0:2]=-1 # öncelikle verilerle oynadık\n",
    "age[2:4]=99\n",
    "age"
   ]
  },
  {
   "cell_type": "code",
   "execution_count": 9,
   "id": "5805ca02",
   "metadata": {},
   "outputs": [
    {
     "data": {
      "image/png": "[encoded data removed]",
      "text/plain": [
       "<Figure size 432x288 with 1 Axes>"
      ]
     },
     "metadata": {
      "needs_background": "light"
     },
     "output_type": "display_data"
    }
   ],
   "source": [
    "plt.hist(age, bins=40); # burada outliers'ları görebiliyoruz"
   ]
  },
  {
   "cell_type": "code",
   "execution_count": 8,
   "id": "87b66730",
   "metadata": {},
   "outputs": [
    {
     "data": {
      "image/png": "[encoded data removed]",
      "text/plain": [
       "<Figure size 432x288 with 1 Axes>"
      ]
     },
     "metadata": {
      "needs_background": "light"
     },
     "output_type": "display_data"
    }
   ],
   "source": [
    "plt.boxplot(age);"
   ]
  },
  {
   "cell_type": "code",
   "execution_count": 10,
   "id": "4efdb41b",
   "metadata": {},
   "outputs": [
    {
     "data": {
      "text/plain": [
       "array([-1, -1])"
      ]
     },
     "execution_count": 10,
     "metadata": {},
     "output_type": "execute_result"
    }
   ],
   "source": [
    "age[age<25]"
   ]
  },
  {
   "cell_type": "code",
   "execution_count": 11,
   "id": "ae627a79",
   "metadata": {},
   "outputs": [
    {
     "data": {
      "text/plain": [
       "array([99, 99])"
      ]
     },
     "execution_count": 11,
     "metadata": {},
     "output_type": "execute_result"
    }
   ],
   "source": [
    "age[age>50]"
   ]
  },
  {
   "cell_type": "code",
   "execution_count": 12,
   "id": "3def5b52",
   "metadata": {},
   "outputs": [
    {
     "data": {
      "text/plain": [
       "array([-1, -1, 37, 37, 34, 33, 35, 36, 27, 42, 33, 38, 43, 42, 39, 44, 43,\n",
       "       38, 37, 31, 35, 41, 35, 42, 33, 26, 33, 41, 40, 38, 33, 29, 40, 43,\n",
       "       38, 40, 29, 35, 43, 42, 42, 35, 37, 27, 31, 34, 25, 42, 43, 33])"
      ]
     },
     "execution_count": 12,
     "metadata": {},
     "output_type": "execute_result"
    }
   ],
   "source": [
    "age[age>50]=age.mean() # outlier'lardan kurtulmak için ortalamayı atadık\n",
    "age"
   ]
  },
  {
   "cell_type": "code",
   "execution_count": 13,
   "id": "ab1e920c",
   "metadata": {},
   "outputs": [
    {
     "data": {
      "text/plain": [
       "array([35, 35, 37, 37, 34, 33, 35, 36, 27, 42, 33, 38, 43, 42, 39, 44, 43,\n",
       "       38, 37, 31, 35, 41, 35, 42, 33, 26, 33, 41, 40, 38, 33, 29, 40, 43,\n",
       "       38, 40, 29, 35, 43, 42, 42, 35, 37, 27, 31, 34, 25, 42, 43, 33])"
      ]
     },
     "execution_count": 13,
     "metadata": {},
     "output_type": "execute_result"
    }
   ],
   "source": [
    "age[age<25]=age.mean() # outlier'lardan kurtulmak için ortalamayı atadık\n",
    "age"
   ]
  },
  {
   "cell_type": "code",
   "execution_count": 14,
   "id": "b2ed9a10",
   "metadata": {},
   "outputs": [
    {
     "data": {
      "text/plain": [
       "array([35, 35, 37, 37, 34, 33, 35, 36, 27, 42, 33, 38, 43, 42, 39, 44, 43,\n",
       "       38, 37, 31, 35, 41, 35, 42, 33, 26, 33, 41, 40, 38, 33, 29, 40, 43,\n",
       "       38, 40, 29, 35, 43, 42, 42, 35, 37, 27, 31, 34, 25, 42, 43, 33])"
      ]
     },
     "execution_count": 14,
     "metadata": {},
     "output_type": "execute_result"
    }
   ],
   "source": [
    "age[(age>50) & (age<25)]=age.mean() # iki işlemi tek bir satırda yapabiliriz\n",
    "age"
   ]
  },
  {
   "cell_type": "markdown",
   "id": "d68e890e",
   "metadata": {},
   "source": [
    "# Sort"
   ]
  },
  {
   "cell_type": "code",
   "execution_count": 15,
   "id": "ca83fb05",
   "metadata": {},
   "outputs": [
    {
     "data": {
      "text/plain": [
       "array([35, 35, 37, 37, 34, 33, 35, 36, 27, 42, 33, 38, 43, 42, 39, 44, 43,\n",
       "       38, 37, 31, 35, 41, 35, 42, 33, 26, 33, 41, 40, 38, 33, 29, 40, 43,\n",
       "       38, 40, 29, 35, 43, 42, 42, 35, 37, 27, 31, 34, 25, 42, 43, 33])"
      ]
     },
     "execution_count": 15,
     "metadata": {},
     "output_type": "execute_result"
    }
   ],
   "source": [
    "age"
   ]
  },
  {
   "cell_type": "code",
   "execution_count": 16,
   "id": "247be155",
   "metadata": {},
   "outputs": [
    {
     "data": {
      "text/plain": [
       "array([25, 26, 27, 27, 29, 29, 31, 31, 33, 33, 33, 33, 33, 33, 34, 34, 35,\n",
       "       35, 35, 35, 35, 35, 35, 36, 37, 37, 37, 37, 38, 38, 38, 38, 39, 40,\n",
       "       40, 40, 41, 41, 42, 42, 42, 42, 42, 42, 43, 43, 43, 43, 43, 44])"
      ]
     },
     "execution_count": 16,
     "metadata": {},
     "output_type": "execute_result"
    }
   ],
   "source": [
    "age.sort()\n",
    "age"
   ]
  },
  {
   "cell_type": "code",
   "execution_count": 18,
   "id": "78c7df11",
   "metadata": {},
   "outputs": [
    {
     "data": {
      "text/plain": [
       "array([44, 43, 43, 43, 43, 43, 42, 42, 42, 42, 42, 42, 41, 41, 40, 40, 40,\n",
       "       39, 38, 38, 38, 38, 37, 37, 37, 37, 36, 35, 35, 35, 35, 35, 35, 35,\n",
       "       34, 34, 33, 33, 33, 33, 33, 33, 31, 31, 29, 29, 27, 27, 26, 25])"
      ]
     },
     "execution_count": 18,
     "metadata": {},
     "output_type": "execute_result"
    }
   ],
   "source": [
    "age[::-1] # tersten sıralama"
   ]
  },
  {
   "cell_type": "code",
   "execution_count": 14,
   "id": "98320e00",
   "metadata": {},
   "outputs": [],
   "source": [
    "import numpy as np\n",
    "import pandas as pd\n",
    "import seaborn as sns\n",
    "import matplotlib.pyplot as plt\n",
    "%matplotlib inline"
   ]
  },
  {
   "cell_type": "code",
   "execution_count": 2,
   "id": "5a08fc9f",
   "metadata": {},
   "outputs": [],
   "source": [
    "#load titanic dataset\n",
    "df=sns.load_dataset(\"titanic\")"
   ]
  },
  {
   "cell_type": "code",
   "execution_count": 3,
   "id": "83583563",
   "metadata": {},
   "outputs": [
    {
     "data": {
      "text/html": [
       "<div>\n",
       "<style scoped>\n",
       "    .dataframe tbody tr th:only-of-type {\n",
       "        vertical-align: middle;\n",
       "    }\n",
       "\n",
       "    .dataframe tbody tr th {\n",
       "        vertical-align: top;\n",
       "    }\n",
       "\n",
       "    .dataframe thead th {\n",
       "        text-align: right;\n",
       "    }\n",
       "</style>\n",
       "<table border=\"1\" class=\"dataframe\">\n",
       "  <thead>\n",
       "    <tr style=\"text-align: right;\">\n",
       "      <th></th>\n",
       "      <th>survived</th>\n",
       "      <th>pclass</th>\n",
       "      <th>sex</th>\n",
       "      <th>age</th>\n",
       "      <th>sibsp</th>\n",
       "      <th>parch</th>\n",
       "      <th>fare</th>\n",
       "      <th>embarked</th>\n",
       "      <th>class</th>\n",
       "      <th>who</th>\n",
       "      <th>adult_male</th>\n",
       "      <th>deck</th>\n",
       "      <th>embark_town</th>\n",
       "      <th>alive</th>\n",
       "      <th>alone</th>\n",
       "    </tr>\n",
       "  </thead>\n",
       "  <tbody>\n",
       "    <tr>\n",
       "      <th>0</th>\n",
       "      <td>0</td>\n",
       "      <td>3</td>\n",
       "      <td>male</td>\n",
       "      <td>22.0</td>\n",
       "      <td>1</td>\n",
       "      <td>0</td>\n",
       "      <td>7.2500</td>\n",
       "      <td>S</td>\n",
       "      <td>Third</td>\n",
       "      <td>man</td>\n",
       "      <td>True</td>\n",
       "      <td>NaN</td>\n",
       "      <td>Southampton</td>\n",
       "      <td>no</td>\n",
       "      <td>False</td>\n",
       "    </tr>\n",
       "    <tr>\n",
       "      <th>1</th>\n",
       "      <td>1</td>\n",
       "      <td>1</td>\n",
       "      <td>female</td>\n",
       "      <td>38.0</td>\n",
       "      <td>1</td>\n",
       "      <td>0</td>\n",
       "      <td>71.2833</td>\n",
       "      <td>C</td>\n",
       "      <td>First</td>\n",
       "      <td>woman</td>\n",
       "      <td>False</td>\n",
       "      <td>C</td>\n",
       "      <td>Cherbourg</td>\n",
       "      <td>yes</td>\n",
       "      <td>False</td>\n",
       "    </tr>\n",
       "    <tr>\n",
       "      <th>2</th>\n",
       "      <td>1</td>\n",
       "      <td>3</td>\n",
       "      <td>female</td>\n",
       "      <td>26.0</td>\n",
       "      <td>0</td>\n",
       "      <td>0</td>\n",
       "      <td>7.9250</td>\n",
       "      <td>S</td>\n",
       "      <td>Third</td>\n",
       "      <td>woman</td>\n",
       "      <td>False</td>\n",
       "      <td>NaN</td>\n",
       "      <td>Southampton</td>\n",
       "      <td>yes</td>\n",
       "      <td>True</td>\n",
       "    </tr>\n",
       "    <tr>\n",
       "      <th>3</th>\n",
       "      <td>1</td>\n",
       "      <td>1</td>\n",
       "      <td>female</td>\n",
       "      <td>35.0</td>\n",
       "      <td>1</td>\n",
       "      <td>0</td>\n",
       "      <td>53.1000</td>\n",
       "      <td>S</td>\n",
       "      <td>First</td>\n",
       "      <td>woman</td>\n",
       "      <td>False</td>\n",
       "      <td>C</td>\n",
       "      <td>Southampton</td>\n",
       "      <td>yes</td>\n",
       "      <td>False</td>\n",
       "    </tr>\n",
       "    <tr>\n",
       "      <th>4</th>\n",
       "      <td>0</td>\n",
       "      <td>3</td>\n",
       "      <td>male</td>\n",
       "      <td>35.0</td>\n",
       "      <td>0</td>\n",
       "      <td>0</td>\n",
       "      <td>8.0500</td>\n",
       "      <td>S</td>\n",
       "      <td>Third</td>\n",
       "      <td>man</td>\n",
       "      <td>True</td>\n",
       "      <td>NaN</td>\n",
       "      <td>Southampton</td>\n",
       "      <td>no</td>\n",
       "      <td>True</td>\n",
       "    </tr>\n",
       "  </tbody>\n",
       "</table>\n",
       "</div>"
      ],
      "text/plain": [
       "   survived  pclass     sex   age  sibsp  parch     fare embarked  class  \\\n",
       "0         0       3    male  22.0      1      0   7.2500        S  Third   \n",
       "1         1       1  female  38.0      1      0  71.2833        C  First   \n",
       "2         1       3  female  26.0      0      0   7.9250        S  Third   \n",
       "3         1       1  female  35.0      1      0  53.1000        S  First   \n",
       "4         0       3    male  35.0      0      0   8.0500        S  Third   \n",
       "\n",
       "     who  adult_male deck  embark_town alive  alone  \n",
       "0    man        True  NaN  Southampton    no  False  \n",
       "1  woman       False    C    Cherbourg   yes  False  \n",
       "2  woman       False  NaN  Southampton   yes   True  \n",
       "3  woman       False    C  Southampton   yes  False  \n",
       "4    man        True  NaN  Southampton    no   True  "
      ]
     },
     "execution_count": 3,
     "metadata": {},
     "output_type": "execute_result"
    }
   ],
   "source": [
    "df.head()"
   ]
  },
  {
   "cell_type": "code",
   "execution_count": 4,
   "id": "271cb3af",
   "metadata": {
    "collapsed": true
   },
   "outputs": [
    {
     "data": {
      "text/plain": [
       "array([  7.25  ,  71.2833,   7.925 ,  53.1   ,   8.05  ,   8.4583,\n",
       "        51.8625,  21.075 ,  11.1333,  30.0708,  16.7   ,  26.55  ,\n",
       "         8.05  ,  31.275 ,   7.8542,  16.    ,  29.125 ,  13.    ,\n",
       "        18.    ,   7.225 ,  26.    ,  13.    ,   8.0292,  35.5   ,\n",
       "        21.075 ,  31.3875,   7.225 , 263.    ,   7.8792,   7.8958,\n",
       "        27.7208, 146.5208,   7.75  ,  10.5   ,  82.1708,  52.    ,\n",
       "         7.2292,   8.05  ,  18.    ,  11.2417,   9.475 ,  21.    ,\n",
       "         7.8958,  41.5792,   7.8792,   8.05  ,  15.5   ,   7.75  ,\n",
       "        21.6792,  17.8   ,  39.6875,   7.8   ,  76.7292,  26.    ,\n",
       "        61.9792,  35.5   ,  10.5   ,   7.2292,  27.75  ,  46.9   ,\n",
       "         7.2292,  80.    ,  83.475 ,  27.9   ,  27.7208,  15.2458,\n",
       "        10.5   ,   8.1583,   7.925 ,   8.6625,  10.5   ,  46.9   ,\n",
       "        73.5   ,  14.4542,  56.4958,   7.65  ,   7.8958,   8.05  ,\n",
       "        29.    ,  12.475 ,   9.    ,   9.5   ,   7.7875,  47.1   ,\n",
       "        10.5   ,  15.85  ,  34.375 ,   8.05  , 263.    ,   8.05  ,\n",
       "         8.05  ,   7.8542,  61.175 ,  20.575 ,   7.25  ,   8.05  ,\n",
       "        34.6542,  63.3583,  23.    ,  26.    ,   7.8958,   7.8958,\n",
       "        77.2875,   8.6542,   7.925 ,   7.8958,   7.65  ,   7.775 ,\n",
       "         7.8958,  24.15  ,  52.    ,  14.4542,   8.05  ,   9.825 ,\n",
       "        14.4583,   7.925 ,   7.75  ,  21.    , 247.5208,  31.275 ,\n",
       "        73.5   ,   8.05  ,  30.0708,  13.    ,  77.2875,  11.2417,\n",
       "         7.75  ,   7.1417,  22.3583,   6.975 ,   7.8958,   7.05  ,\n",
       "        14.5   ,  26.    ,  13.    ,  15.0458,  26.2833,  53.1   ,\n",
       "         9.2167,  79.2   ,  15.2458,   7.75  ,  15.85  ,   6.75  ,\n",
       "        11.5   ,  36.75  ,   7.7958,  34.375 ,  26.    ,  13.    ,\n",
       "        12.525 ,  66.6   ,   8.05  ,  14.5   ,   7.3125,  61.3792,\n",
       "         7.7333,   8.05  ,   8.6625,  69.55  ,  16.1   ,  15.75  ,\n",
       "         7.775 ,   8.6625,  39.6875,  20.525 ,  55.    ,  27.9   ,\n",
       "        25.925 ,  56.4958,  33.5   ,  29.125 ,  11.1333,   7.925 ,\n",
       "        30.6958,   7.8542,  25.4667,  28.7125,  13.    ,   0.    ,\n",
       "        69.55  ,  15.05  ,  31.3875,  39.    ,  22.025 ,  50.    ,\n",
       "        15.5   ,  26.55  ,  15.5   ,   7.8958,  13.    ,  13.    ,\n",
       "         7.8542,  26.    ,  27.7208, 146.5208,   7.75  ,   8.4042,\n",
       "         7.75  ,  13.    ,   9.5   ,  69.55  ,   6.4958,   7.225 ,\n",
       "         8.05  ,  10.4625,  15.85  ,  18.7875,   7.75  ,  31.    ,\n",
       "         7.05  ,  21.    ,   7.25  ,  13.    ,   7.75  , 113.275 ,\n",
       "         7.925 ,  27.    ,  76.2917,  10.5   ,   8.05  ,  13.    ,\n",
       "         8.05  ,   7.8958,  90.    ,   9.35  ,  10.5   ,   7.25  ,\n",
       "        13.    ,  25.4667,  83.475 ,   7.775 ,  13.5   ,  31.3875,\n",
       "        10.5   ,   7.55  ,  26.    ,  26.25  ,  10.5   ,  12.275 ,\n",
       "        14.4542,  15.5   ,  10.5   ,   7.125 ,   7.225 ,  90.    ,\n",
       "         7.775 ,  14.5   ,  52.5542,  26.    ,   7.25  ,  10.4625,\n",
       "        26.55  ,  16.1   ,  20.2125,  15.2458,  79.2   ,  86.5   ,\n",
       "       512.3292,  26.    ,   7.75  ,  31.3875,  79.65  ,   0.    ,\n",
       "         7.75  ,  10.5   ,  39.6875,   7.775 , 153.4625, 135.6333,\n",
       "        31.    ,   0.    ,  19.5   ,  29.7   ,   7.75  ,  77.9583,\n",
       "         7.75  ,   0.    ,  29.125 ,  20.25  ,   7.75  ,   7.8542,\n",
       "         9.5   ,   8.05  ,  26.    ,   8.6625,   9.5   ,   7.8958,\n",
       "        13.    ,   7.75  ,  78.85  ,  91.0792,  12.875 ,   8.85  ,\n",
       "         7.8958,  27.7208,   7.2292, 151.55  ,  30.5   , 247.5208,\n",
       "         7.75  ,  23.25  ,   0.    ,  12.35  ,   8.05  , 151.55  ,\n",
       "       110.8833, 108.9   ,  24.    ,  56.9292,  83.1583, 262.375 ,\n",
       "        26.    ,   7.8958,  26.25  ,   7.8542,  26.    ,  14.    ,\n",
       "       164.8667, 134.5   ,   7.25  ,   7.8958,  12.35  ,  29.    ,\n",
       "        69.55  , 135.6333,   6.2375,  13.    ,  20.525 ,  57.9792,\n",
       "        23.25  ,  28.5   , 153.4625,  18.    , 133.65  ,   7.8958,\n",
       "        66.6   , 134.5   ,   8.05  ,  35.5   ,  26.    , 263.    ,\n",
       "        13.    ,  13.    ,  13.    ,  13.    ,  13.    ,  16.1   ,\n",
       "        15.9   ,   8.6625,   9.225 ,  35.    ,   7.2292,  17.8   ,\n",
       "         7.225 ,   9.5   ,  55.    ,  13.    ,   7.8792,   7.8792,\n",
       "        27.9   ,  27.7208,  14.4542,   7.05  ,  15.5   ,   7.25  ,\n",
       "        75.25  ,   7.2292,   7.75  ,  69.3   ,  55.4417,   6.4958,\n",
       "         8.05  , 135.6333,  21.075 ,  82.1708,   7.25  , 211.5   ,\n",
       "         4.0125,   7.775 , 227.525 ,  15.7417,   7.925 ,  52.    ,\n",
       "         7.8958,  73.5   ,  46.9   ,  13.    ,   7.7292,  12.    ,\n",
       "       120.    ,   7.7958,   7.925 , 113.275 ,  16.7   ,   7.7958,\n",
       "         7.8542,  26.    ,  10.5   ,  12.65  ,   7.925 ,   8.05  ,\n",
       "         9.825 ,  15.85  ,   8.6625,  21.    ,   7.75  ,  18.75  ,\n",
       "         7.775 ,  25.4667,   7.8958,   6.8583,  90.    ,   0.    ,\n",
       "         7.925 ,   8.05  ,  32.5   ,  13.    ,  13.    ,  24.15  ,\n",
       "         7.8958,   7.7333,   7.875 ,  14.4   ,  20.2125,   7.25  ,\n",
       "        26.    ,  26.    ,   7.75  ,   8.05  ,  26.55  ,  16.1   ,\n",
       "        26.    ,   7.125 ,  55.9   , 120.    ,  34.375 ,  18.75  ,\n",
       "       263.    ,  10.5   ,  26.25  ,   9.5   ,   7.775 ,  13.    ,\n",
       "         8.1125,  81.8583,  19.5   ,  26.55  ,  19.2583,  30.5   ,\n",
       "        27.75  ,  19.9667,  27.75  ,  89.1042,   8.05  ,   7.8958,\n",
       "        26.55  ,  51.8625,  10.5   ,   7.75  ,  26.55  ,   8.05  ,\n",
       "        38.5   ,  13.    ,   8.05  ,   7.05  ,   0.    ,  26.55  ,\n",
       "         7.725 ,  19.2583,   7.25  ,   8.6625,  27.75  ,  13.7917,\n",
       "         9.8375,  52.    ,  21.    ,   7.0458,   7.5208,  12.2875,\n",
       "        46.9   ,   0.    ,   8.05  ,   9.5875,  91.0792,  25.4667,\n",
       "        90.    ,  29.7   ,   8.05  ,  15.9   ,  19.9667,   7.25  ,\n",
       "        30.5   ,  49.5042,   8.05  ,  14.4583,  78.2667,  15.1   ,\n",
       "       151.55  ,   7.7958,   8.6625,   7.75  ,   7.6292,   9.5875,\n",
       "        86.5   , 108.9   ,  26.    ,  26.55  ,  22.525 ,  56.4958,\n",
       "         7.75  ,   8.05  ,  26.2875,  59.4   ,   7.4958,  34.0208,\n",
       "        10.5   ,  24.15  ,  26.    ,   7.8958,  93.5   ,   7.8958,\n",
       "         7.225 ,  57.9792,   7.2292,   7.75  ,  10.5   , 221.7792,\n",
       "         7.925 ,  11.5   ,  26.    ,   7.2292,   7.2292,  22.3583,\n",
       "         8.6625,  26.25  ,  26.55  , 106.425 ,  14.5   ,  49.5   ,\n",
       "        71.    ,  31.275 ,  31.275 ,  26.    , 106.425 ,  26.    ,\n",
       "        26.    ,  13.8625,  20.525 ,  36.75  , 110.8833,  26.    ,\n",
       "         7.8292,   7.225 ,   7.775 ,  26.55  ,  39.6   , 227.525 ,\n",
       "        79.65  ,  17.4   ,   7.75  ,   7.8958,  13.5   ,   8.05  ,\n",
       "         8.05  ,  24.15  ,   7.8958,  21.075 ,   7.2292,   7.8542,\n",
       "        10.5   ,  51.4792,  26.3875,   7.75  ,   8.05  ,  14.5   ,\n",
       "        13.    ,  55.9   ,  14.4583,   7.925 ,  30.    , 110.8833,\n",
       "        26.    ,  40.125 ,   8.7125,  79.65  ,  15.    ,  79.2   ,\n",
       "         8.05  ,   8.05  ,   7.125 ,  78.2667,   7.25  ,   7.75  ,\n",
       "        26.    ,  24.15  ,  33.    ,   0.    ,   7.225 ,  56.9292,\n",
       "        27.    ,   7.8958,  42.4   ,   8.05  ,  26.55  ,  15.55  ,\n",
       "         7.8958,  30.5   ,  41.5792, 153.4625,  31.275 ,   7.05  ,\n",
       "        15.5   ,   7.75  ,   8.05  ,  65.    ,  14.4   ,  16.1   ,\n",
       "        39.    ,  10.5   ,  14.4542,  52.5542,  15.7417,   7.8542,\n",
       "        16.1   ,  32.3208,  12.35  ,  77.9583,   7.8958,   7.7333,\n",
       "        30.    ,   7.0542,  30.5   ,   0.    ,  27.9   ,  13.    ,\n",
       "         7.925 ,  26.25  ,  39.6875,  16.1   ,   7.8542,  69.3   ,\n",
       "        27.9   ,  56.4958,  19.2583,  76.7292,   7.8958,  35.5   ,\n",
       "         7.55  ,   7.55  ,   7.8958,  23.    ,   8.4333,   7.8292,\n",
       "         6.75  ,  73.5   ,   7.8958,  15.5   ,  13.    , 113.275 ,\n",
       "       133.65  ,   7.225 ,  25.5875,   7.4958,   7.925 ,  73.5   ,\n",
       "        13.    ,   7.775 ,   8.05  ,  52.    ,  39.    ,  52.    ,\n",
       "        10.5   ,  13.    ,   0.    ,   7.775 ,   8.05  ,   9.8417,\n",
       "        46.9   , 512.3292,   8.1375,  76.7292,   9.225 ,  46.9   ,\n",
       "        39.    ,  41.5792,  39.6875,  10.1708,   7.7958, 211.3375,\n",
       "        57.    ,  13.4167,  56.4958,   7.225 ,  26.55  ,  13.5   ,\n",
       "         8.05  ,   7.7333, 110.8833,   7.65  , 227.525 ,  26.2875,\n",
       "        14.4542,   7.7417,   7.8542,  26.    ,  13.5   ,  26.2875,\n",
       "       151.55  ,  15.2458,  49.5042,  26.55  ,  52.    ,   9.4833,\n",
       "        13.    ,   7.65  , 227.525 ,  10.5   ,  15.5   ,   7.775 ,\n",
       "        33.    ,   7.0542,  13.    ,  13.    ,  53.1   ,   8.6625,\n",
       "        21.    ,   7.7375,  26.    ,   7.925 , 211.3375,  18.7875,\n",
       "         0.    ,  13.    ,  13.    ,  16.1   ,  34.375 , 512.3292,\n",
       "         7.8958,   7.8958,  30.    ,  78.85  , 262.375 ,  16.1   ,\n",
       "         7.925 ,  71.    ,  20.25  ,  13.    ,  53.1   ,   7.75  ,\n",
       "        23.    ,  12.475 ,   9.5   ,   7.8958,  65.    ,  14.5   ,\n",
       "         7.7958,  11.5   ,   8.05  ,  86.5   ,  14.5   ,   7.125 ,\n",
       "         7.2292, 120.    ,   7.775 ,  77.9583,  39.6   ,   7.75  ,\n",
       "        24.15  ,   8.3625,   9.5   ,   7.8542,  10.5   ,   7.225 ,\n",
       "        23.    ,   7.75  ,   7.75  ,  12.475 ,   7.7375, 211.3375,\n",
       "         7.2292,  57.    ,  30.    ,  23.45  ,   7.05  ,   7.25  ,\n",
       "         7.4958,  29.125 ,  20.575 ,  79.2   ,   7.75  ,  26.    ,\n",
       "        69.55  ,  30.6958,   7.8958,  13.    ,  25.9292,   8.6833,\n",
       "         7.2292,  24.15  ,  13.    ,  26.25  , 120.    ,   8.5167,\n",
       "         6.975 ,   7.775 ,   0.    ,   7.775 ,  13.    ,  53.1   ,\n",
       "         7.8875,  24.15  ,  10.5   ,  31.275 ,   8.05  ,   0.    ,\n",
       "         7.925 ,  37.0042,   6.45  ,  27.9   ,  93.5   ,   8.6625,\n",
       "         0.    ,  12.475 ,  39.6875,   6.95  ,  56.4958,  37.0042,\n",
       "         7.75  ,  80.    ,  14.4542,  18.75  ,   7.2292,   7.8542,\n",
       "         8.3   ,  83.1583,   8.6625,   8.05  ,  56.4958,  29.7   ,\n",
       "         7.925 ,  10.5   ,  31.    ,   6.4375,   8.6625,   7.55  ,\n",
       "        69.55  ,   7.8958,  33.    ,  89.1042,  31.275 ,   7.775 ,\n",
       "        15.2458,  39.4   ,  26.    ,   9.35  , 164.8667,  26.55  ,\n",
       "        19.2583,   7.2292,  14.1083,  11.5   ,  25.9292,  69.55  ,\n",
       "        13.    ,  13.    ,  13.8583,  50.4958,   9.5   ,  11.1333,\n",
       "         7.8958,  52.5542,   5.    ,   9.    ,  24.    ,   7.225 ,\n",
       "         9.8458,   7.8958,   7.8958,  83.1583,  26.    ,   7.8958,\n",
       "        10.5167,  10.5   ,   7.05  ,  29.125 ,  13.    ,  30.    ,\n",
       "        23.45  ,  30.    ,   7.75  ])"
      ]
     },
     "execution_count": 4,
     "metadata": {},
     "output_type": "execute_result"
    }
   ],
   "source": [
    "fare=np.array(df[\"fare\"])\n",
    "fare"
   ]
  },
  {
   "cell_type": "code",
   "execution_count": 11,
   "id": "43be04e5",
   "metadata": {},
   "outputs": [
    {
     "data": {
      "text/plain": [
       "4.7792532923723545"
      ]
     },
     "execution_count": 11,
     "metadata": {},
     "output_type": "execute_result"
    }
   ],
   "source": [
    "stats.skew(fare) # çarpıklığına bakıyoruz"
   ]
  },
  {
   "cell_type": "code",
   "execution_count": 15,
   "id": "547d303e",
   "metadata": {},
   "outputs": [
    {
     "data": {
      "image/png": "[encoded data removed]",
      "text/plain": [
       "<Figure size 432x288 with 1 Axes>"
      ]
     },
     "metadata": {
      "needs_background": "light"
     },
     "output_type": "display_data"
    }
   ],
   "source": [
    "plt.hist(fare);"
   ]
  },
  {
   "cell_type": "code",
   "execution_count": 16,
   "id": "02f83bcb",
   "metadata": {},
   "outputs": [
    {
     "data": {
      "image/png": "[encoded data removed]",
      "text/plain": [
       "<Figure size 432x288 with 1 Axes>"
      ]
     },
     "metadata": {
      "needs_background": "light"
     },
     "output_type": "display_data"
    }
   ],
   "source": [
    "plt.boxplot(fare);"
   ]
  },
  {
   "cell_type": "code",
   "execution_count": 17,
   "id": "15839979",
   "metadata": {},
   "outputs": [
    {
     "data": {
      "image/png": "[encoded data removed]",
      "text/plain": [
       "<Figure size 432x288 with 1 Axes>"
      ]
     },
     "metadata": {
      "needs_background": "light"
     },
     "output_type": "display_data"
    }
   ],
   "source": [
    "newfare=fare[fare<=200]\n",
    "plt.boxplot(newfare);"
   ]
  },
  {
   "cell_type": "code",
   "execution_count": 18,
   "id": "14d1d509",
   "metadata": {},
   "outputs": [
    {
     "data": {
      "image/png": "[encoded data removed]",
      "text/plain": [
       "<Figure size 432x288 with 1 Axes>"
      ]
     },
     "metadata": {
      "needs_background": "light"
     },
     "output_type": "display_data"
    }
   ],
   "source": [
    "plt.hist(newfare);"
   ]
  },
  {
   "cell_type": "code",
   "execution_count": 19,
   "id": "c8a8b589",
   "metadata": {},
   "outputs": [
    {
     "data": {
      "text/plain": [
       "7.8958"
      ]
     },
     "execution_count": 19,
     "metadata": {},
     "output_type": "execute_result"
    }
   ],
   "source": [
    "np.percentile(newfare,25) # Q1 (25)'i bulma"
   ]
  },
  {
   "cell_type": "code",
   "execution_count": 20,
   "id": "d9e23109",
   "metadata": {},
   "outputs": [
    {
     "data": {
      "text/plain": [
       "22.1042"
      ]
     },
     "execution_count": 20,
     "metadata": {},
     "output_type": "execute_result"
    }
   ],
   "source": [
    "stats.iqr(newfare) # IQR bulma"
   ]
  },
  {
   "cell_type": "markdown",
   "id": "ceecfe4c",
   "metadata": {},
   "source": [
    "# Scatter Plot"
   ]
  },
  {
   "cell_type": "code",
   "execution_count": 21,
   "id": "448d7683",
   "metadata": {},
   "outputs": [],
   "source": [
    "tvhours=[3,5,2,0,5,3,1,4,3,4]\n",
    "GPA=[2.7,2.1,3.3,3.4,2,3,3.6,2.8,3.5,2.6]"
   ]
  },
  {
   "cell_type": "code",
   "execution_count": 23,
   "id": "ec1c4981",
   "metadata": {},
   "outputs": [],
   "source": [
    "tvhours=np.array(tvhours) # array'e çevirmemizin nedeni matematiksel işlem yapabilmek\n",
    "GPA=np.array(GPA)         # eğer çevirmeseydik string olarak algılardı"
   ]
  },
  {
   "cell_type": "code",
   "execution_count": 24,
   "id": "120cf455",
   "metadata": {},
   "outputs": [
    {
     "data": {
      "text/plain": [
       "<matplotlib.collections.PathCollection at 0x7fb029543070>"
      ]
     },
     "execution_count": 24,
     "metadata": {},
     "output_type": "execute_result"
    },
    {
     "data": {
      "image/png": "[encoded data removed]",
      "text/plain": [
       "<Figure size 432x288 with 1 Axes>"
      ]
     },
     "metadata": {
      "needs_background": "light"
     },
     "output_type": "display_data"
    }
   ],
   "source": [
    "plt.scatter(tvhours,GPA) "
   ]
  },
  {
   "cell_type": "code",
   "execution_count": 29,
   "id": "3c0e646b",
   "metadata": {},
   "outputs": [
    {
     "data": {
      "image/png": "[encoded data removed]",
      "text/plain": [
       "<Figure size 432x288 with 1 Axes>"
      ]
     },
     "metadata": {
      "needs_background": "light"
     },
     "output_type": "display_data"
    }
   ],
   "source": [
    "m,b=np.polyfit(tvhours,GPA,1) # regression çizgisi\n",
    "plt.plot(tvhours,GPA,\"o\")     # \"o\"'nun anlamı noktaların şekli\n",
    "plt.plot(tvhours,tvhours*m+b);"
   ]
  },
  {
   "cell_type": "markdown",
   "id": "144e14c1",
   "metadata": {},
   "source": [
    "# SciPy"
   ]
  },
  {
   "cell_type": "code",
   "execution_count": 34,
   "id": "91295ccb",
   "metadata": {},
   "outputs": [
    {
     "data": {
      "text/plain": [
       "(-0.8569780755138501, 0.001534743626999713)"
      ]
     },
     "execution_count": 34,
     "metadata": {},
     "output_type": "execute_result"
    }
   ],
   "source": [
    "stats.pearsonr(tvhours,GPA) # 1.si r(correlation), 2.si ise p-value"
   ]
  },
  {
   "cell_type": "code",
   "execution_count": 35,
   "id": "584c52b8",
   "metadata": {},
   "outputs": [
    {
     "data": {
      "text/plain": [
       "array([[ 1.        , -0.85697808],\n",
       "       [-0.85697808,  1.        ]])"
      ]
     },
     "execution_count": 35,
     "metadata": {},
     "output_type": "execute_result"
    }
   ],
   "source": [
    "np.corrcoef(tvhours,GPA) # 1'lerin anlamı her nesnenin kendisiyle olan correlation katsayısı"
   ]
  },
  {
   "cell_type": "markdown",
   "id": "27fd99a7",
   "metadata": {},
   "source": [
    "# Correlation With Pandas"
   ]
  },
  {
   "cell_type": "code",
   "execution_count": 3,
   "id": "8002afc0",
   "metadata": {
    "collapsed": true
   },
   "outputs": [
    {
     "data": {
      "text/html": [
       "<div>\n",
       "<style scoped>\n",
       "    .dataframe tbody tr th:only-of-type {\n",
       "        vertical-align: middle;\n",
       "    }\n",
       "\n",
       "    .dataframe tbody tr th {\n",
       "        vertical-align: top;\n",
       "    }\n",
       "\n",
       "    .dataframe thead th {\n",
       "        text-align: right;\n",
       "    }\n",
       "</style>\n",
       "<table border=\"1\" class=\"dataframe\">\n",
       "  <thead>\n",
       "    <tr style=\"text-align: right;\">\n",
       "      <th></th>\n",
       "      <th>total</th>\n",
       "      <th>speeding</th>\n",
       "      <th>alcohol</th>\n",
       "      <th>not_distracted</th>\n",
       "      <th>no_previous</th>\n",
       "      <th>ins_premium</th>\n",
       "      <th>ins_losses</th>\n",
       "      <th>abbrev</th>\n",
       "    </tr>\n",
       "  </thead>\n",
       "  <tbody>\n",
       "    <tr>\n",
       "      <th>0</th>\n",
       "      <td>18.8</td>\n",
       "      <td>7.332</td>\n",
       "      <td>5.640</td>\n",
       "      <td>18.048</td>\n",
       "      <td>15.040</td>\n",
       "      <td>784.55</td>\n",
       "      <td>145.08</td>\n",
       "      <td>AL</td>\n",
       "    </tr>\n",
       "    <tr>\n",
       "      <th>1</th>\n",
       "      <td>18.1</td>\n",
       "      <td>7.421</td>\n",
       "      <td>4.525</td>\n",
       "      <td>16.290</td>\n",
       "      <td>17.014</td>\n",
       "      <td>1053.48</td>\n",
       "      <td>133.93</td>\n",
       "      <td>AK</td>\n",
       "    </tr>\n",
       "    <tr>\n",
       "      <th>2</th>\n",
       "      <td>18.6</td>\n",
       "      <td>6.510</td>\n",
       "      <td>5.208</td>\n",
       "      <td>15.624</td>\n",
       "      <td>17.856</td>\n",
       "      <td>899.47</td>\n",
       "      <td>110.35</td>\n",
       "      <td>AZ</td>\n",
       "    </tr>\n",
       "    <tr>\n",
       "      <th>3</th>\n",
       "      <td>22.4</td>\n",
       "      <td>4.032</td>\n",
       "      <td>5.824</td>\n",
       "      <td>21.056</td>\n",
       "      <td>21.280</td>\n",
       "      <td>827.34</td>\n",
       "      <td>142.39</td>\n",
       "      <td>AR</td>\n",
       "    </tr>\n",
       "    <tr>\n",
       "      <th>4</th>\n",
       "      <td>12.0</td>\n",
       "      <td>4.200</td>\n",
       "      <td>3.360</td>\n",
       "      <td>10.920</td>\n",
       "      <td>10.680</td>\n",
       "      <td>878.41</td>\n",
       "      <td>165.63</td>\n",
       "      <td>CA</td>\n",
       "    </tr>\n",
       "    <tr>\n",
       "      <th>5</th>\n",
       "      <td>13.6</td>\n",
       "      <td>5.032</td>\n",
       "      <td>3.808</td>\n",
       "      <td>10.744</td>\n",
       "      <td>12.920</td>\n",
       "      <td>835.50</td>\n",
       "      <td>139.91</td>\n",
       "      <td>CO</td>\n",
       "    </tr>\n",
       "    <tr>\n",
       "      <th>6</th>\n",
       "      <td>10.8</td>\n",
       "      <td>4.968</td>\n",
       "      <td>3.888</td>\n",
       "      <td>9.396</td>\n",
       "      <td>8.856</td>\n",
       "      <td>1068.73</td>\n",
       "      <td>167.02</td>\n",
       "      <td>CT</td>\n",
       "    </tr>\n",
       "    <tr>\n",
       "      <th>7</th>\n",
       "      <td>16.2</td>\n",
       "      <td>6.156</td>\n",
       "      <td>4.860</td>\n",
       "      <td>14.094</td>\n",
       "      <td>16.038</td>\n",
       "      <td>1137.87</td>\n",
       "      <td>151.48</td>\n",
       "      <td>DE</td>\n",
       "    </tr>\n",
       "    <tr>\n",
       "      <th>8</th>\n",
       "      <td>5.9</td>\n",
       "      <td>2.006</td>\n",
       "      <td>1.593</td>\n",
       "      <td>5.900</td>\n",
       "      <td>5.900</td>\n",
       "      <td>1273.89</td>\n",
       "      <td>136.05</td>\n",
       "      <td>DC</td>\n",
       "    </tr>\n",
       "    <tr>\n",
       "      <th>9</th>\n",
       "      <td>17.9</td>\n",
       "      <td>3.759</td>\n",
       "      <td>5.191</td>\n",
       "      <td>16.468</td>\n",
       "      <td>16.826</td>\n",
       "      <td>1160.13</td>\n",
       "      <td>144.18</td>\n",
       "      <td>FL</td>\n",
       "    </tr>\n",
       "    <tr>\n",
       "      <th>10</th>\n",
       "      <td>15.6</td>\n",
       "      <td>2.964</td>\n",
       "      <td>3.900</td>\n",
       "      <td>14.820</td>\n",
       "      <td>14.508</td>\n",
       "      <td>913.15</td>\n",
       "      <td>142.80</td>\n",
       "      <td>GA</td>\n",
       "    </tr>\n",
       "    <tr>\n",
       "      <th>11</th>\n",
       "      <td>17.5</td>\n",
       "      <td>9.450</td>\n",
       "      <td>7.175</td>\n",
       "      <td>14.350</td>\n",
       "      <td>15.225</td>\n",
       "      <td>861.18</td>\n",
       "      <td>120.92</td>\n",
       "      <td>HI</td>\n",
       "    </tr>\n",
       "    <tr>\n",
       "      <th>12</th>\n",
       "      <td>15.3</td>\n",
       "      <td>5.508</td>\n",
       "      <td>4.437</td>\n",
       "      <td>13.005</td>\n",
       "      <td>14.994</td>\n",
       "      <td>641.96</td>\n",
       "      <td>82.75</td>\n",
       "      <td>ID</td>\n",
       "    </tr>\n",
       "    <tr>\n",
       "      <th>13</th>\n",
       "      <td>12.8</td>\n",
       "      <td>4.608</td>\n",
       "      <td>4.352</td>\n",
       "      <td>12.032</td>\n",
       "      <td>12.288</td>\n",
       "      <td>803.11</td>\n",
       "      <td>139.15</td>\n",
       "      <td>IL</td>\n",
       "    </tr>\n",
       "    <tr>\n",
       "      <th>14</th>\n",
       "      <td>14.5</td>\n",
       "      <td>3.625</td>\n",
       "      <td>4.205</td>\n",
       "      <td>13.775</td>\n",
       "      <td>13.775</td>\n",
       "      <td>710.46</td>\n",
       "      <td>108.92</td>\n",
       "      <td>IN</td>\n",
       "    </tr>\n",
       "    <tr>\n",
       "      <th>15</th>\n",
       "      <td>15.7</td>\n",
       "      <td>2.669</td>\n",
       "      <td>3.925</td>\n",
       "      <td>15.229</td>\n",
       "      <td>13.659</td>\n",
       "      <td>649.06</td>\n",
       "      <td>114.47</td>\n",
       "      <td>IA</td>\n",
       "    </tr>\n",
       "    <tr>\n",
       "      <th>16</th>\n",
       "      <td>17.8</td>\n",
       "      <td>4.806</td>\n",
       "      <td>4.272</td>\n",
       "      <td>13.706</td>\n",
       "      <td>15.130</td>\n",
       "      <td>780.45</td>\n",
       "      <td>133.80</td>\n",
       "      <td>KS</td>\n",
       "    </tr>\n",
       "    <tr>\n",
       "      <th>17</th>\n",
       "      <td>21.4</td>\n",
       "      <td>4.066</td>\n",
       "      <td>4.922</td>\n",
       "      <td>16.692</td>\n",
       "      <td>16.264</td>\n",
       "      <td>872.51</td>\n",
       "      <td>137.13</td>\n",
       "      <td>KY</td>\n",
       "    </tr>\n",
       "    <tr>\n",
       "      <th>18</th>\n",
       "      <td>20.5</td>\n",
       "      <td>7.175</td>\n",
       "      <td>6.765</td>\n",
       "      <td>14.965</td>\n",
       "      <td>20.090</td>\n",
       "      <td>1281.55</td>\n",
       "      <td>194.78</td>\n",
       "      <td>LA</td>\n",
       "    </tr>\n",
       "    <tr>\n",
       "      <th>19</th>\n",
       "      <td>15.1</td>\n",
       "      <td>5.738</td>\n",
       "      <td>4.530</td>\n",
       "      <td>13.137</td>\n",
       "      <td>12.684</td>\n",
       "      <td>661.88</td>\n",
       "      <td>96.57</td>\n",
       "      <td>ME</td>\n",
       "    </tr>\n",
       "    <tr>\n",
       "      <th>20</th>\n",
       "      <td>12.5</td>\n",
       "      <td>4.250</td>\n",
       "      <td>4.000</td>\n",
       "      <td>8.875</td>\n",
       "      <td>12.375</td>\n",
       "      <td>1048.78</td>\n",
       "      <td>192.70</td>\n",
       "      <td>MD</td>\n",
       "    </tr>\n",
       "    <tr>\n",
       "      <th>21</th>\n",
       "      <td>8.2</td>\n",
       "      <td>1.886</td>\n",
       "      <td>2.870</td>\n",
       "      <td>7.134</td>\n",
       "      <td>6.560</td>\n",
       "      <td>1011.14</td>\n",
       "      <td>135.63</td>\n",
       "      <td>MA</td>\n",
       "    </tr>\n",
       "    <tr>\n",
       "      <th>22</th>\n",
       "      <td>14.1</td>\n",
       "      <td>3.384</td>\n",
       "      <td>3.948</td>\n",
       "      <td>13.395</td>\n",
       "      <td>10.857</td>\n",
       "      <td>1110.61</td>\n",
       "      <td>152.26</td>\n",
       "      <td>MI</td>\n",
       "    </tr>\n",
       "    <tr>\n",
       "      <th>23</th>\n",
       "      <td>9.6</td>\n",
       "      <td>2.208</td>\n",
       "      <td>2.784</td>\n",
       "      <td>8.448</td>\n",
       "      <td>8.448</td>\n",
       "      <td>777.18</td>\n",
       "      <td>133.35</td>\n",
       "      <td>MN</td>\n",
       "    </tr>\n",
       "    <tr>\n",
       "      <th>24</th>\n",
       "      <td>17.6</td>\n",
       "      <td>2.640</td>\n",
       "      <td>5.456</td>\n",
       "      <td>1.760</td>\n",
       "      <td>17.600</td>\n",
       "      <td>896.07</td>\n",
       "      <td>155.77</td>\n",
       "      <td>MS</td>\n",
       "    </tr>\n",
       "    <tr>\n",
       "      <th>25</th>\n",
       "      <td>16.1</td>\n",
       "      <td>6.923</td>\n",
       "      <td>5.474</td>\n",
       "      <td>14.812</td>\n",
       "      <td>13.524</td>\n",
       "      <td>790.32</td>\n",
       "      <td>144.45</td>\n",
       "      <td>MO</td>\n",
       "    </tr>\n",
       "    <tr>\n",
       "      <th>26</th>\n",
       "      <td>21.4</td>\n",
       "      <td>8.346</td>\n",
       "      <td>9.416</td>\n",
       "      <td>17.976</td>\n",
       "      <td>18.190</td>\n",
       "      <td>816.21</td>\n",
       "      <td>85.15</td>\n",
       "      <td>MT</td>\n",
       "    </tr>\n",
       "    <tr>\n",
       "      <th>27</th>\n",
       "      <td>14.9</td>\n",
       "      <td>1.937</td>\n",
       "      <td>5.215</td>\n",
       "      <td>13.857</td>\n",
       "      <td>13.410</td>\n",
       "      <td>732.28</td>\n",
       "      <td>114.82</td>\n",
       "      <td>NE</td>\n",
       "    </tr>\n",
       "    <tr>\n",
       "      <th>28</th>\n",
       "      <td>14.7</td>\n",
       "      <td>5.439</td>\n",
       "      <td>4.704</td>\n",
       "      <td>13.965</td>\n",
       "      <td>14.553</td>\n",
       "      <td>1029.87</td>\n",
       "      <td>138.71</td>\n",
       "      <td>NV</td>\n",
       "    </tr>\n",
       "    <tr>\n",
       "      <th>29</th>\n",
       "      <td>11.6</td>\n",
       "      <td>4.060</td>\n",
       "      <td>3.480</td>\n",
       "      <td>10.092</td>\n",
       "      <td>9.628</td>\n",
       "      <td>746.54</td>\n",
       "      <td>120.21</td>\n",
       "      <td>NH</td>\n",
       "    </tr>\n",
       "    <tr>\n",
       "      <th>30</th>\n",
       "      <td>11.2</td>\n",
       "      <td>1.792</td>\n",
       "      <td>3.136</td>\n",
       "      <td>9.632</td>\n",
       "      <td>8.736</td>\n",
       "      <td>1301.52</td>\n",
       "      <td>159.85</td>\n",
       "      <td>NJ</td>\n",
       "    </tr>\n",
       "    <tr>\n",
       "      <th>31</th>\n",
       "      <td>18.4</td>\n",
       "      <td>3.496</td>\n",
       "      <td>4.968</td>\n",
       "      <td>12.328</td>\n",
       "      <td>18.032</td>\n",
       "      <td>869.85</td>\n",
       "      <td>120.75</td>\n",
       "      <td>NM</td>\n",
       "    </tr>\n",
       "    <tr>\n",
       "      <th>32</th>\n",
       "      <td>12.3</td>\n",
       "      <td>3.936</td>\n",
       "      <td>3.567</td>\n",
       "      <td>10.824</td>\n",
       "      <td>9.840</td>\n",
       "      <td>1234.31</td>\n",
       "      <td>150.01</td>\n",
       "      <td>NY</td>\n",
       "    </tr>\n",
       "    <tr>\n",
       "      <th>33</th>\n",
       "      <td>16.8</td>\n",
       "      <td>6.552</td>\n",
       "      <td>5.208</td>\n",
       "      <td>15.792</td>\n",
       "      <td>13.608</td>\n",
       "      <td>708.24</td>\n",
       "      <td>127.82</td>\n",
       "      <td>NC</td>\n",
       "    </tr>\n",
       "    <tr>\n",
       "      <th>34</th>\n",
       "      <td>23.9</td>\n",
       "      <td>5.497</td>\n",
       "      <td>10.038</td>\n",
       "      <td>23.661</td>\n",
       "      <td>20.554</td>\n",
       "      <td>688.75</td>\n",
       "      <td>109.72</td>\n",
       "      <td>ND</td>\n",
       "    </tr>\n",
       "    <tr>\n",
       "      <th>35</th>\n",
       "      <td>14.1</td>\n",
       "      <td>3.948</td>\n",
       "      <td>4.794</td>\n",
       "      <td>13.959</td>\n",
       "      <td>11.562</td>\n",
       "      <td>697.73</td>\n",
       "      <td>133.52</td>\n",
       "      <td>OH</td>\n",
       "    </tr>\n",
       "    <tr>\n",
       "      <th>36</th>\n",
       "      <td>19.9</td>\n",
       "      <td>6.368</td>\n",
       "      <td>5.771</td>\n",
       "      <td>18.308</td>\n",
       "      <td>18.706</td>\n",
       "      <td>881.51</td>\n",
       "      <td>178.86</td>\n",
       "      <td>OK</td>\n",
       "    </tr>\n",
       "    <tr>\n",
       "      <th>37</th>\n",
       "      <td>12.8</td>\n",
       "      <td>4.224</td>\n",
       "      <td>3.328</td>\n",
       "      <td>8.576</td>\n",
       "      <td>11.520</td>\n",
       "      <td>804.71</td>\n",
       "      <td>104.61</td>\n",
       "      <td>OR</td>\n",
       "    </tr>\n",
       "    <tr>\n",
       "      <th>38</th>\n",
       "      <td>18.2</td>\n",
       "      <td>9.100</td>\n",
       "      <td>5.642</td>\n",
       "      <td>17.472</td>\n",
       "      <td>16.016</td>\n",
       "      <td>905.99</td>\n",
       "      <td>153.86</td>\n",
       "      <td>PA</td>\n",
       "    </tr>\n",
       "    <tr>\n",
       "      <th>39</th>\n",
       "      <td>11.1</td>\n",
       "      <td>3.774</td>\n",
       "      <td>4.218</td>\n",
       "      <td>10.212</td>\n",
       "      <td>8.769</td>\n",
       "      <td>1148.99</td>\n",
       "      <td>148.58</td>\n",
       "      <td>RI</td>\n",
       "    </tr>\n",
       "    <tr>\n",
       "      <th>40</th>\n",
       "      <td>23.9</td>\n",
       "      <td>9.082</td>\n",
       "      <td>9.799</td>\n",
       "      <td>22.944</td>\n",
       "      <td>19.359</td>\n",
       "      <td>858.97</td>\n",
       "      <td>116.29</td>\n",
       "      <td>SC</td>\n",
       "    </tr>\n",
       "    <tr>\n",
       "      <th>41</th>\n",
       "      <td>19.4</td>\n",
       "      <td>6.014</td>\n",
       "      <td>6.402</td>\n",
       "      <td>19.012</td>\n",
       "      <td>16.684</td>\n",
       "      <td>669.31</td>\n",
       "      <td>96.87</td>\n",
       "      <td>SD</td>\n",
       "    </tr>\n",
       "    <tr>\n",
       "      <th>42</th>\n",
       "      <td>19.5</td>\n",
       "      <td>4.095</td>\n",
       "      <td>5.655</td>\n",
       "      <td>15.990</td>\n",
       "      <td>15.795</td>\n",
       "      <td>767.91</td>\n",
       "      <td>155.57</td>\n",
       "      <td>TN</td>\n",
       "    </tr>\n",
       "    <tr>\n",
       "      <th>43</th>\n",
       "      <td>19.4</td>\n",
       "      <td>7.760</td>\n",
       "      <td>7.372</td>\n",
       "      <td>17.654</td>\n",
       "      <td>16.878</td>\n",
       "      <td>1004.75</td>\n",
       "      <td>156.83</td>\n",
       "      <td>TX</td>\n",
       "    </tr>\n",
       "    <tr>\n",
       "      <th>44</th>\n",
       "      <td>11.3</td>\n",
       "      <td>4.859</td>\n",
       "      <td>1.808</td>\n",
       "      <td>9.944</td>\n",
       "      <td>10.848</td>\n",
       "      <td>809.38</td>\n",
       "      <td>109.48</td>\n",
       "      <td>UT</td>\n",
       "    </tr>\n",
       "    <tr>\n",
       "      <th>45</th>\n",
       "      <td>13.6</td>\n",
       "      <td>4.080</td>\n",
       "      <td>4.080</td>\n",
       "      <td>13.056</td>\n",
       "      <td>12.920</td>\n",
       "      <td>716.20</td>\n",
       "      <td>109.61</td>\n",
       "      <td>VT</td>\n",
       "    </tr>\n",
       "    <tr>\n",
       "      <th>46</th>\n",
       "      <td>12.7</td>\n",
       "      <td>2.413</td>\n",
       "      <td>3.429</td>\n",
       "      <td>11.049</td>\n",
       "      <td>11.176</td>\n",
       "      <td>768.95</td>\n",
       "      <td>153.72</td>\n",
       "      <td>VA</td>\n",
       "    </tr>\n",
       "    <tr>\n",
       "      <th>47</th>\n",
       "      <td>10.6</td>\n",
       "      <td>4.452</td>\n",
       "      <td>3.498</td>\n",
       "      <td>8.692</td>\n",
       "      <td>9.116</td>\n",
       "      <td>890.03</td>\n",
       "      <td>111.62</td>\n",
       "      <td>WA</td>\n",
       "    </tr>\n",
       "    <tr>\n",
       "      <th>48</th>\n",
       "      <td>23.8</td>\n",
       "      <td>8.092</td>\n",
       "      <td>6.664</td>\n",
       "      <td>23.086</td>\n",
       "      <td>20.706</td>\n",
       "      <td>992.61</td>\n",
       "      <td>152.56</td>\n",
       "      <td>WV</td>\n",
       "    </tr>\n",
       "    <tr>\n",
       "      <th>49</th>\n",
       "      <td>13.8</td>\n",
       "      <td>4.968</td>\n",
       "      <td>4.554</td>\n",
       "      <td>5.382</td>\n",
       "      <td>11.592</td>\n",
       "      <td>670.31</td>\n",
       "      <td>106.62</td>\n",
       "      <td>WI</td>\n",
       "    </tr>\n",
       "    <tr>\n",
       "      <th>50</th>\n",
       "      <td>17.4</td>\n",
       "      <td>7.308</td>\n",
       "      <td>5.568</td>\n",
       "      <td>14.094</td>\n",
       "      <td>15.660</td>\n",
       "      <td>791.14</td>\n",
       "      <td>122.04</td>\n",
       "      <td>WY</td>\n",
       "    </tr>\n",
       "  </tbody>\n",
       "</table>\n",
       "</div>"
      ],
      "text/plain": [
       "    total  speeding  alcohol  not_distracted  no_previous  ins_premium  \\\n",
       "0    18.8     7.332    5.640          18.048       15.040       784.55   \n",
       "1    18.1     7.421    4.525          16.290       17.014      1053.48   \n",
       "2    18.6     6.510    5.208          15.624       17.856       899.47   \n",
       "3    22.4     4.032    5.824          21.056       21.280       827.34   \n",
       "4    12.0     4.200    3.360          10.920       10.680       878.41   \n",
       "5    13.6     5.032    3.808          10.744       12.920       835.50   \n",
       "6    10.8     4.968    3.888           9.396        8.856      1068.73   \n",
       "7    16.2     6.156    4.860          14.094       16.038      1137.87   \n",
       "8     5.9     2.006    1.593           5.900        5.900      1273.89   \n",
       "9    17.9     3.759    5.191          16.468       16.826      1160.13   \n",
       "10   15.6     2.964    3.900          14.820       14.508       913.15   \n",
       "11   17.5     9.450    7.175          14.350       15.225       861.18   \n",
       "12   15.3     5.508    4.437          13.005       14.994       641.96   \n",
       "13   12.8     4.608    4.352          12.032       12.288       803.11   \n",
       "14   14.5     3.625    4.205          13.775       13.775       710.46   \n",
       "15   15.7     2.669    3.925          15.229       13.659       649.06   \n",
       "16   17.8     4.806    4.272          13.706       15.130       780.45   \n",
       "17   21.4     4.066    4.922          16.692       16.264       872.51   \n",
       "18   20.5     7.175    6.765          14.965       20.090      1281.55   \n",
       "19   15.1     5.738    4.530          13.137       12.684       661.88   \n",
       "20   12.5     4.250    4.000           8.875       12.375      1048.78   \n",
       "21    8.2     1.886    2.870           7.134        6.560      1011.14   \n",
       "22   14.1     3.384    3.948          13.395       10.857      1110.61   \n",
       "23    9.6     2.208    2.784           8.448        8.448       777.18   \n",
       "24   17.6     2.640    5.456           1.760       17.600       896.07   \n",
       "25   16.1     6.923    5.474          14.812       13.524       790.32   \n",
       "26   21.4     8.346    9.416          17.976       18.190       816.21   \n",
       "27   14.9     1.937    5.215          13.857       13.410       732.28   \n",
       "28   14.7     5.439    4.704          13.965       14.553      1029.87   \n",
       "29   11.6     4.060    3.480          10.092        9.628       746.54   \n",
       "30   11.2     1.792    3.136           9.632        8.736      1301.52   \n",
       "31   18.4     3.496    4.968          12.328       18.032       869.85   \n",
       "32   12.3     3.936    3.567          10.824        9.840      1234.31   \n",
       "33   16.8     6.552    5.208          15.792       13.608       708.24   \n",
       "34   23.9     5.497   10.038          23.661       20.554       688.75   \n",
       "35   14.1     3.948    4.794          13.959       11.562       697.73   \n",
       "36   19.9     6.368    5.771          18.308       18.706       881.51   \n",
       "37   12.8     4.224    3.328           8.576       11.520       804.71   \n",
       "38   18.2     9.100    5.642          17.472       16.016       905.99   \n",
       "39   11.1     3.774    4.218          10.212        8.769      1148.99   \n",
       "40   23.9     9.082    9.799          22.944       19.359       858.97   \n",
       "41   19.4     6.014    6.402          19.012       16.684       669.31   \n",
       "42   19.5     4.095    5.655          15.990       15.795       767.91   \n",
       "43   19.4     7.760    7.372          17.654       16.878      1004.75   \n",
       "44   11.3     4.859    1.808           9.944       10.848       809.38   \n",
       "45   13.6     4.080    4.080          13.056       12.920       716.20   \n",
       "46   12.7     2.413    3.429          11.049       11.176       768.95   \n",
       "47   10.6     4.452    3.498           8.692        9.116       890.03   \n",
       "48   23.8     8.092    6.664          23.086       20.706       992.61   \n",
       "49   13.8     4.968    4.554           5.382       11.592       670.31   \n",
       "50   17.4     7.308    5.568          14.094       15.660       791.14   \n",
       "\n",
       "    ins_losses abbrev  \n",
       "0       145.08     AL  \n",
       "1       133.93     AK  \n",
       "2       110.35     AZ  \n",
       "3       142.39     AR  \n",
       "4       165.63     CA  \n",
       "5       139.91     CO  \n",
       "6       167.02     CT  \n",
       "7       151.48     DE  \n",
       "8       136.05     DC  \n",
       "9       144.18     FL  \n",
       "10      142.80     GA  \n",
       "11      120.92     HI  \n",
       "12       82.75     ID  \n",
       "13      139.15     IL  \n",
       "14      108.92     IN  \n",
       "15      114.47     IA  \n",
       "16      133.80     KS  \n",
       "17      137.13     KY  \n",
       "18      194.78     LA  \n",
       "19       96.57     ME  \n",
       "20      192.70     MD  \n",
       "21      135.63     MA  \n",
       "22      152.26     MI  \n",
       "23      133.35     MN  \n",
       "24      155.77     MS  \n",
       "25      144.45     MO  \n",
       "26       85.15     MT  \n",
       "27      114.82     NE  \n",
       "28      138.71     NV  \n",
       "29      120.21     NH  \n",
       "30      159.85     NJ  \n",
       "31      120.75     NM  \n",
       "32      150.01     NY  \n",
       "33      127.82     NC  \n",
       "34      109.72     ND  \n",
       "35      133.52     OH  \n",
       "36      178.86     OK  \n",
       "37      104.61     OR  \n",
       "38      153.86     PA  \n",
       "39      148.58     RI  \n",
       "40      116.29     SC  \n",
       "41       96.87     SD  \n",
       "42      155.57     TN  \n",
       "43      156.83     TX  \n",
       "44      109.48     UT  \n",
       "45      109.61     VT  \n",
       "46      153.72     VA  \n",
       "47      111.62     WA  \n",
       "48      152.56     WV  \n",
       "49      106.62     WI  \n",
       "50      122.04     WY  "
      ]
     },
     "execution_count": 3,
     "metadata": {},
     "output_type": "execute_result"
    }
   ],
   "source": [
    "carcrash=sns.load_dataset(\"car_crashes\")\n",
    "carcrash"
   ]
  },
  {
   "cell_type": "code",
   "execution_count": 4,
   "id": "82446a80",
   "metadata": {},
   "outputs": [
    {
     "data": {
      "text/html": [
       "<div>\n",
       "<style scoped>\n",
       "    .dataframe tbody tr th:only-of-type {\n",
       "        vertical-align: middle;\n",
       "    }\n",
       "\n",
       "    .dataframe tbody tr th {\n",
       "        vertical-align: top;\n",
       "    }\n",
       "\n",
       "    .dataframe thead th {\n",
       "        text-align: right;\n",
       "    }\n",
       "</style>\n",
       "<table border=\"1\" class=\"dataframe\">\n",
       "  <thead>\n",
       "    <tr style=\"text-align: right;\">\n",
       "      <th></th>\n",
       "      <th>total</th>\n",
       "      <th>speeding</th>\n",
       "      <th>alcohol</th>\n",
       "      <th>not_distracted</th>\n",
       "      <th>no_previous</th>\n",
       "      <th>ins_premium</th>\n",
       "      <th>ins_losses</th>\n",
       "    </tr>\n",
       "  </thead>\n",
       "  <tbody>\n",
       "    <tr>\n",
       "      <th>total</th>\n",
       "      <td>1.000000</td>\n",
       "      <td>0.611548</td>\n",
       "      <td>0.852613</td>\n",
       "      <td>0.827560</td>\n",
       "      <td>0.956179</td>\n",
       "      <td>-0.199702</td>\n",
       "      <td>-0.036011</td>\n",
       "    </tr>\n",
       "    <tr>\n",
       "      <th>speeding</th>\n",
       "      <td>0.611548</td>\n",
       "      <td>1.000000</td>\n",
       "      <td>0.669719</td>\n",
       "      <td>0.588010</td>\n",
       "      <td>0.571976</td>\n",
       "      <td>-0.077675</td>\n",
       "      <td>-0.065928</td>\n",
       "    </tr>\n",
       "    <tr>\n",
       "      <th>alcohol</th>\n",
       "      <td>0.852613</td>\n",
       "      <td>0.669719</td>\n",
       "      <td>1.000000</td>\n",
       "      <td>0.732816</td>\n",
       "      <td>0.783520</td>\n",
       "      <td>-0.170612</td>\n",
       "      <td>-0.112547</td>\n",
       "    </tr>\n",
       "    <tr>\n",
       "      <th>not_distracted</th>\n",
       "      <td>0.827560</td>\n",
       "      <td>0.588010</td>\n",
       "      <td>0.732816</td>\n",
       "      <td>1.000000</td>\n",
       "      <td>0.747307</td>\n",
       "      <td>-0.174856</td>\n",
       "      <td>-0.075970</td>\n",
       "    </tr>\n",
       "    <tr>\n",
       "      <th>no_previous</th>\n",
       "      <td>0.956179</td>\n",
       "      <td>0.571976</td>\n",
       "      <td>0.783520</td>\n",
       "      <td>0.747307</td>\n",
       "      <td>1.000000</td>\n",
       "      <td>-0.156895</td>\n",
       "      <td>-0.006359</td>\n",
       "    </tr>\n",
       "    <tr>\n",
       "      <th>ins_premium</th>\n",
       "      <td>-0.199702</td>\n",
       "      <td>-0.077675</td>\n",
       "      <td>-0.170612</td>\n",
       "      <td>-0.174856</td>\n",
       "      <td>-0.156895</td>\n",
       "      <td>1.000000</td>\n",
       "      <td>0.623116</td>\n",
       "    </tr>\n",
       "    <tr>\n",
       "      <th>ins_losses</th>\n",
       "      <td>-0.036011</td>\n",
       "      <td>-0.065928</td>\n",
       "      <td>-0.112547</td>\n",
       "      <td>-0.075970</td>\n",
       "      <td>-0.006359</td>\n",
       "      <td>0.623116</td>\n",
       "      <td>1.000000</td>\n",
       "    </tr>\n",
       "  </tbody>\n",
       "</table>\n",
       "</div>"
      ],
      "text/plain": [
       "                   total  speeding   alcohol  not_distracted  no_previous  \\\n",
       "total           1.000000  0.611548  0.852613        0.827560     0.956179   \n",
       "speeding        0.611548  1.000000  0.669719        0.588010     0.571976   \n",
       "alcohol         0.852613  0.669719  1.000000        0.732816     0.783520   \n",
       "not_distracted  0.827560  0.588010  0.732816        1.000000     0.747307   \n",
       "no_previous     0.956179  0.571976  0.783520        0.747307     1.000000   \n",
       "ins_premium    -0.199702 -0.077675 -0.170612       -0.174856    -0.156895   \n",
       "ins_losses     -0.036011 -0.065928 -0.112547       -0.075970    -0.006359   \n",
       "\n",
       "                ins_premium  ins_losses  \n",
       "total             -0.199702   -0.036011  \n",
       "speeding          -0.077675   -0.065928  \n",
       "alcohol           -0.170612   -0.112547  \n",
       "not_distracted    -0.174856   -0.075970  \n",
       "no_previous       -0.156895   -0.006359  \n",
       "ins_premium        1.000000    0.623116  \n",
       "ins_losses         0.623116    1.000000  "
      ]
     },
     "execution_count": 4,
     "metadata": {},
     "output_type": "execute_result"
    }
   ],
   "source": [
    "carcrash.corr() # correlation matris"
   ]
  },
  {
   "cell_type": "code",
   "execution_count": 5,
   "id": "22165bde",
   "metadata": {},
   "outputs": [
    {
     "data": {
      "text/plain": [
       "0.9561791745723079"
      ]
     },
     "execution_count": 5,
     "metadata": {},
     "output_type": "execute_result"
    }
   ],
   "source": [
    "carcrash[\"total\"].corr(carcrash[\"no_previous\"]) # iki değişken arasındaki correlation "
   ]
  },
  {
   "cell_type": "code",
   "execution_count": 7,
   "id": "9f623f98",
   "metadata": {},
   "outputs": [
    {
     "data": {
      "text/plain": [
       "<AxesSubplot:>"
      ]
     },
     "execution_count": 7,
     "metadata": {},
     "output_type": "execute_result"
    },
    {
     "data": {
      "image/png": "[encoded data removed]",
      "text/plain": [
       "<Figure size 432x288 with 2 Axes>"
      ]
     },
     "metadata": {
      "needs_background": "light"
     },
     "output_type": "display_data"
    }
   ],
   "source": [
    "sns.heatmap(carcrash.corr(),annot=True) "
   ]
  },
  {
   "cell_type": "code",
   "execution_count": 8,
   "id": "08ffd1e0",
   "metadata": {
    "scrolled": true
   },
   "outputs": [
    {
     "data": {
      "text/plain": [
       "<seaborn.axisgrid.PairGrid at 0x7fd6f4e4a790>"
      ]
     },
     "execution_count": 8,
     "metadata": {},
     "output_type": "execute_result"
    },
    {
     "data": {
      "image/png": "[encoded data removed]",
      "text/plain": [
       "<Figure size 1260x1260 with 56 Axes>"
      ]
     },
     "metadata": {
      "needs_background": "light"
     },
     "output_type": "display_data"
    }
   ],
   "source": [
    "sns.pairplot(carcrash) # çoklu scatter plot grafiği"
   ]
  },
  {
   "cell_type": "code",
   "execution_count": null,
   "id": "c2b49239",
   "metadata": {},
   "outputs": [],
   "source": []
  }
 ],
 "metadata": {
  "kernelspec": {
   "display_name": "Python 3",
   "language": "python",
   "name": "python3"
  },
  "language_info": {
   "codemirror_mode": {
    "name": "ipython",
    "version": 3
   },
   "file_extension": ".py",
   "mimetype": "text/x-python",
   "name": "python",
   "nbconvert_exporter": "python",
   "pygments_lexer": "ipython3",
   "version": "3.8.8"
  }
 },
 "nbformat": 4,
 "nbformat_minor": 5
}
